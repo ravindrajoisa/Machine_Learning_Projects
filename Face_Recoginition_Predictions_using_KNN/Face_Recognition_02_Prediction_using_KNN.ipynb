{
 "cells": [
  {
   "cell_type": "code",
   "execution_count": 2,
   "id": "c14af7ff-9024-4337-9e52-4827b20313a6",
   "metadata": {},
   "outputs": [],
   "source": [
    "# 2. Train a classifier to learn who is the person (Classification)\n",
    "#   - Load the training data (.nps arrays)\n",
    "#   - Store the data and target values (lables)\n",
    "# As faces are at the center and data set is small, I will be using K-NN"
   ]
  },
  {
   "cell_type": "code",
   "execution_count": 3,
   "id": "d429a25c-0a81-4307-a716-3b335c9ba040",
   "metadata": {},
   "outputs": [],
   "source": [
    "import cv2\n",
    "import numpy as np\n",
    "import os"
   ]
  },
  {
   "cell_type": "code",
   "execution_count": 9,
   "id": "f4928ced-169e-402e-a170-4b0032bcfd02",
   "metadata": {},
   "outputs": [],
   "source": [
    "# data\n",
    "dataset_path = \"./data/\"\n",
    "faceData = []\n",
    "labels = []\n",
    "nameMap = {}\n",
    "\n",
    "classId = 0"
   ]
  },
  {
   "cell_type": "code",
   "execution_count": null,
   "id": "63052863-c267-41fe-a868-57b74965cf1b",
   "metadata": {},
   "outputs": [],
   "source": [
    "for f in os.listdir(dataset_path):\n",
    "    if f.endswith(\".npy\"):\n",
    "\n",
    "    nameMap[classId] = f[:-4]    \n",
    "    # X - value\n",
    "        dataItem = np.load(dataset_path + f)\n",
    "        m = dataItem.shape[0]\n",
    "        faceData.append(dataItem)\n",
    "    #    print(dataItem.shape)\n",
    "     \n",
    "    #   print(dataItem.shape)\n",
    "       \n",
    "\n",
    "        # Y - values\n",
    "        target = classId * np.ones((m,))\n",
    "        classId += 1\n",
    "        lables.append(target)\n",
    "\n",
    "#print(faceData)\n",
    "#print(lables)\n",
    "\n",
    "X = np.concatenate(faceData, axis=0)\n",
    "y = np.concatenate(labels, axis=0).reshape((-1,1))\n",
    "\n",
    "print(X.shape)\n",
    "print(y.shape)\n",
    "print(nameMap)"
   ]
  },
  {
   "cell_type": "code",
   "execution_count": null,
   "id": "96281baa-d7bf-42cb-8baa-8213a1f4faf6",
   "metadata": {},
   "outputs": [],
   "source": []
  }
 ],
 "metadata": {
  "kernelspec": {
   "display_name": "Python 3 (ipykernel)",
   "language": "python",
   "name": "python3"
  },
  "language_info": {
   "codemirror_mode": {
    "name": "ipython",
    "version": 3
   },
   "file_extension": ".py",
   "mimetype": "text/x-python",
   "name": "python",
   "nbconvert_exporter": "python",
   "pygments_lexer": "ipython3",
   "version": "3.12.4"
  }
 },
 "nbformat": 4,
 "nbformat_minor": 5
}
