{
 "cells": [
  {
   "cell_type": "code",
   "execution_count": 1,
   "id": "9cfb8a83-910a-44b5-b972-826d2ad21959",
   "metadata": {},
   "outputs": [],
   "source": [
    "# Project - Face Recognition\n",
    "# 1. Collet data of various persons\n",
    "#   - Asking multiple people to come in front of the webcam, click 20 pic each\n",
    "#   - Store the part of the image containing the face (Haarcascade to detect the face)\n",
    "\n",
    "# 2. Train a classifier to learn who is the person (Classification)\n",
    "#   - Load the training data (.nps arrays)\n",
    "#   - Store the data and target values (lables)\n",
    "\n",
    "# Predicting the name of the person\n",
    "#   - Read the video stream\n",
    "#   - Extract the face out it\n",
    "#   - predict the label for that face.\n",
    "#         - logistic regression (parametric algorithm)\n",
    "#         - Neural network\n",
    "#         - KNN (non-parametric look for similarity in nearest neighbours)\n"
   ]
  },
  {
   "cell_type": "code",
   "execution_count": 2,
   "id": "da09b579-d705-4384-94b4-bc4ae16b3557",
   "metadata": {},
   "outputs": [],
   "source": [
    "import cv2\n",
    "import numpy as np\n",
    "import os"
   ]
  },
  {
   "cell_type": "code",
   "execution_count": 3,
   "id": "a6c8f2c9-a804-40b6-a48b-fb266e30e85c",
   "metadata": {},
   "outputs": [
    {
     "ename": "FileNotFoundError",
     "evalue": "[WinError 3] The system cannot find the path specified: './data/'",
     "output_type": "error",
     "traceback": [
      "\u001b[1;31m---------------------------------------------------------------------------\u001b[0m",
      "\u001b[1;31mFileNotFoundError\u001b[0m                         Traceback (most recent call last)",
      "Cell \u001b[1;32mIn[3], line 6\u001b[0m\n\u001b[0;32m      3\u001b[0m faceData \u001b[38;5;241m=\u001b[39m []\n\u001b[0;32m      4\u001b[0m labels \u001b[38;5;241m=\u001b[39m []\n\u001b[1;32m----> 6\u001b[0m \u001b[38;5;28;01mfor\u001b[39;00m f \u001b[38;5;129;01min\u001b[39;00m os\u001b[38;5;241m.\u001b[39mlistdir(dataset_path):\n\u001b[0;32m      7\u001b[0m     \u001b[38;5;28;01mif\u001b[39;00m f\u001b[38;5;241m.\u001b[39mendswitch(\u001b[38;5;124m\"\u001b[39m\u001b[38;5;124m.npy\u001b[39m\u001b[38;5;124m\"\u001b[39m):\n\u001b[0;32m      8\u001b[0m         dataItem \u001b[38;5;241m=\u001b[39m np\u001b[38;5;241m.\u001b[39mload(dataset_path \u001b[38;5;241m+\u001b[39m f)\n",
      "\u001b[1;31mFileNotFoundError\u001b[0m: [WinError 3] The system cannot find the path specified: './data/'"
     ]
    }
   ],
   "source": [
    "#Data\n",
    "dataset_path = \"./data/\"\n",
    "faceData = []\n",
    "labels = []\n",
    "\n",
    "for f in os.listdir(dataset_path):\n",
    "    if f.endswitch(\".npy\"):\n",
    "        dataItem = np.load(dataset_path + f)\n",
    "        print(dataItem.shape)\n",
    "        daceData.append(dataItem)"
   ]
  },
  {
   "cell_type": "code",
   "execution_count": null,
   "id": "4345d32a-43b1-4dbd-82ec-d9f399214ce0",
   "metadata": {},
   "outputs": [],
   "source": []
  }
 ],
 "metadata": {
  "kernelspec": {
   "display_name": "Python 3 (ipykernel)",
   "language": "python",
   "name": "python3"
  },
  "language_info": {
   "codemirror_mode": {
    "name": "ipython",
    "version": 3
   },
   "file_extension": ".py",
   "mimetype": "text/x-python",
   "name": "python",
   "nbconvert_exporter": "python",
   "pygments_lexer": "ipython3",
   "version": "3.12.4"
  }
 },
 "nbformat": 4,
 "nbformat_minor": 5
}
