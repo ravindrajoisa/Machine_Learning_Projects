{
  "nbformat": 4,
  "nbformat_minor": 0,
  "metadata": {
    "colab": {
      "provenance": []
    },
    "kernelspec": {
      "name": "python3",
      "display_name": "Python 3"
    },
    "language_info": {
      "name": "python"
    }
  },
  "cells": [
    {
      "cell_type": "code",
      "execution_count": 1,
      "metadata": {
        "id": "-Y5AekiVgMDh"
      },
      "outputs": [],
      "source": [
        "import numpy as np\n",
        "import pandas as pd\n",
        "import matplotlib.pyplot as plt\n",
        "import os"
      ]
    },
    {
      "cell_type": "code",
      "source": [
        "!wget https://www.dropbox.com/scl/fo/bvuow01lylgdecsixmdye/ANhvmetm1cFpdNgJrwjcj2c?rlkey=gd3hh1sxk3ov8gupvf5jt9cr8&st=oe4ol0or&dl=0 -O data"
      ],
      "metadata": {
        "colab": {
          "base_uri": "https://localhost:8080/"
        },
        "id": "twM1tXrwhKHu",
        "outputId": "844f21eb-88ba-4813-c67e-58b1b712189e"
      },
      "execution_count": 2,
      "outputs": [
        {
          "output_type": "stream",
          "name": "stdout",
          "text": [
            "/bin/bash: line 1: -O: command not found\n",
            "--2025-04-19 17:07:51--  https://www.dropbox.com/scl/fo/bvuow01lylgdecsixmdye/ANhvmetm1cFpdNgJrwjcj2c?rlkey=gd3hh1sxk3ov8gupvf5jt9cr8\n",
            "Resolving www.dropbox.com (www.dropbox.com)... 162.125.3.18, 2620:100:6018:18::a27d:312\n",
            "Connecting to www.dropbox.com (www.dropbox.com)|162.125.3.18|:443... connected.\n",
            "HTTP request sent, awaiting response... 302 Found\n",
            "Location: https://ucd3188f9ec7af2e7e3f58d6214a.dl.dropboxusercontent.com/zip_download_get/CLgR46UDCK9mxrhxOHrxkjTjU2dwwVV6BhYshF4Zcbf7ZGQ5NT3wqjDTcYbS5Qti74qENB_PeuHFGaMTgXNElYSp6AqVN_OSkUywi-RZdRThNQ# [following]\n",
            "--2025-04-19 17:07:52--  https://ucd3188f9ec7af2e7e3f58d6214a.dl.dropboxusercontent.com/zip_download_get/CLgR46UDCK9mxrhxOHrxkjTjU2dwwVV6BhYshF4Zcbf7ZGQ5NT3wqjDTcYbS5Qti74qENB_PeuHFGaMTgXNElYSp6AqVN_OSkUywi-RZdRThNQ\n",
            "Resolving ucd3188f9ec7af2e7e3f58d6214a.dl.dropboxusercontent.com (ucd3188f9ec7af2e7e3f58d6214a.dl.dropboxusercontent.com)... 162.125.3.15, 2620:100:6018:15::a27d:30f\n",
            "Connecting to ucd3188f9ec7af2e7e3f58d6214a.dl.dropboxusercontent.com (ucd3188f9ec7af2e7e3f58d6214a.dl.dropboxusercontent.com)|162.125.3.15|:443... connected.\n",
            "HTTP request sent, awaiting response... 200 OK\n",
            "Length: 108475527 (103M) [application/zip]\n",
            "Saving to: ‘ANhvmetm1cFpdNgJrwjcj2c?rlkey=gd3hh1sxk3ov8gupvf5jt9cr8’\n",
            "\n",
            "ANhvmetm1cFpdNgJrwj 100%[===================>] 103.45M  14.7MB/s    in 7.0s    \n",
            "\n",
            "2025-04-19 17:07:59 (14.7 MB/s) - ‘ANhvmetm1cFpdNgJrwjcj2c?rlkey=gd3hh1sxk3ov8gupvf5jt9cr8’ saved [108475527/108475527]\n",
            "\n"
          ]
        }
      ]
    },
    {
      "cell_type": "code",
      "source": [
        "!unzip ANhvmetm1cFpdNgJrwjcj2c?rlkey=gd3hh1sxk3ov8gupvf5jt9cr8 -d \"images/\""
      ],
      "metadata": {
        "colab": {
          "base_uri": "https://localhost:8080/"
        },
        "id": "Vbn4MgcohidF",
        "outputId": "d1f180eb-5799-4266-8dca-e6b54096e7b6"
      },
      "execution_count": 3,
      "outputs": [
        {
          "output_type": "stream",
          "name": "stdout",
          "text": [
            "Archive:  ANhvmetm1cFpdNgJrwjcj2c?rlkey=gd3hh1sxk3ov8gupvf5jt9cr8\n",
            "warning:  stripped absolute path spec from /\n",
            "mapname:  conversion of  failed\n",
            "   creating: images/Test/\n",
            "   creating: images/Train/\n",
            "   creating: images/Test/Pikachu/\n",
            "   creating: images/Train/Pikachu/\n",
            "   creating: images/Test/Bulbasaur/\n",
            "   creating: images/Train/Bulbasaur/\n",
            "   creating: images/Test/Charmander/\n",
            "   creating: images/Train/Charmander/\n",
            " extracting: images/Train/Pikachu/296.jpg  \n",
            " extracting: images/Train/Pikachu/297.jpg  \n",
            " extracting: images/Train/Pikachu/298.jpg  \n",
            " extracting: images/Train/Pikachu/299.jpg  \n",
            " extracting: images/Train/Pikachu/300.jpg  \n",
            " extracting: images/Train/Pikachu/301.jpg  \n",
            " extracting: images/Train/Pikachu/302.jpg  \n",
            " extracting: images/Train/Pikachu/303.jpg  \n",
            " extracting: images/Train/Pikachu/304.jpg  \n",
            " extracting: images/Train/Pikachu/305.jpg  \n",
            " extracting: images/Train/Pikachu/307.jpg  \n",
            " extracting: images/Train/Pikachu/308.jpg  \n",
            " extracting: images/Train/Pikachu/309.jpg  \n",
            " extracting: images/Train/Pikachu/310.jpg  \n",
            " extracting: images/Train/Pikachu/312.jpg  \n",
            " extracting: images/Train/Pikachu/306.jpg  \n",
            " extracting: images/Train/Pikachu/313.jpg  \n",
            " extracting: images/Train/Pikachu/317.jpg  \n",
            " extracting: images/Train/Pikachu/311.jpg  \n",
            " extracting: images/Train/Pikachu/314.jpg  \n",
            " extracting: images/Train/Pikachu/315.jpg  \n",
            " extracting: images/Train/Pikachu/319.jpg  \n",
            " extracting: images/Train/Pikachu/320.jpg  \n",
            " extracting: images/Train/Pikachu/316.jpg  \n",
            " extracting: images/Train/Pikachu/318.jpg  \n",
            " extracting: images/Train/Pikachu/321.jpg  \n",
            " extracting: images/Train/Pikachu/323.jpg  \n",
            " extracting: images/Train/Pikachu/324.jpg  \n",
            " extracting: images/Train/Pikachu/325.jpg  \n",
            " extracting: images/Train/Pikachu/322.jpg  \n",
            " extracting: images/Train/Pikachu/327.jpg  \n",
            " extracting: images/Train/Pikachu/328.jpg  \n",
            " extracting: images/Train/Pikachu/329.jpg  \n",
            " extracting: images/Train/Pikachu/330.jpg  \n",
            " extracting: images/Train/Pikachu/332.jpg  \n",
            " extracting: images/Train/Pikachu/326.jpg  \n",
            " extracting: images/Train/Pikachu/331.jpg  \n",
            " extracting: images/Train/Pikachu/333.jpg  \n",
            " extracting: images/Train/Pikachu/336.jpg  \n",
            " extracting: images/Train/Pikachu/337.jpg  \n",
            " extracting: images/Train/Pikachu/334.jpg  \n",
            " extracting: images/Train/Pikachu/338.jpg  \n",
            " extracting: images/Train/Pikachu/339.jpg  \n",
            " extracting: images/Train/Pikachu/340.jpg  \n",
            " extracting: images/Train/Pikachu/341.jpg  \n",
            " extracting: images/Train/Pikachu/342.jpg  \n",
            " extracting: images/Train/Pikachu/335.jpg  \n",
            " extracting: images/Train/Pikachu/343.jpg  \n",
            " extracting: images/Train/Pikachu/344.jpg  \n",
            " extracting: images/Train/Pikachu/346.jpg  \n",
            " extracting: images/Train/Pikachu/347.jpg  \n",
            " extracting: images/Train/Pikachu/348.jpg  \n",
            " extracting: images/Train/Pikachu/349.jpg  \n",
            " extracting: images/Train/Pikachu/350.jpg  \n",
            " extracting: images/Train/Pikachu/351.jpg  \n",
            " extracting: images/Train/Pikachu/353.jpg  \n",
            " extracting: images/Train/Pikachu/345.jpg  \n",
            " extracting: images/Train/Pikachu/352.jpg  \n",
            " extracting: images/Train/Pikachu/355.jpg  \n",
            " extracting: images/Train/Pikachu/356.jpg  \n",
            " extracting: images/Train/Pikachu/357.jpg  \n",
            " extracting: images/Train/Pikachu/358.jpg  \n",
            " extracting: images/Train/Pikachu/359.jpg  \n",
            " extracting: images/Train/Pikachu/360.jpg  \n",
            " extracting: images/Train/Pikachu/361.jpg  \n",
            " extracting: images/Train/Pikachu/363.jpg  \n",
            " extracting: images/Train/Pikachu/354.jpg  \n",
            " extracting: images/Train/Pikachu/362.jpg  \n",
            " extracting: images/Train/Pikachu/364.jpg  \n",
            " extracting: images/Train/Pikachu/365.jpg  \n",
            " extracting: images/Train/Pikachu/366.jpg  \n",
            " extracting: images/Train/Pikachu/367.jpg  \n",
            " extracting: images/Train/Pikachu/368.jpg  \n",
            " extracting: images/Train/Pikachu/369.jpg  \n",
            " extracting: images/Train/Pikachu/370.jpg  \n",
            " extracting: images/Train/Pikachu/372.jpg  \n",
            " extracting: images/Train/Pikachu/373.jpg  \n",
            " extracting: images/Train/Pikachu/371.jpg  \n",
            " extracting: images/Train/Pikachu/374.jpg  \n",
            " extracting: images/Train/Pikachu/375.jpg  \n",
            " extracting: images/Train/Pikachu/377.jpg  \n",
            " extracting: images/Train/Pikachu/378.jpg  \n",
            " extracting: images/Train/Pikachu/376.jpg  \n",
            " extracting: images/Train/Pikachu/380.jpg  \n",
            " extracting: images/Train/Pikachu/381.jpg  \n",
            " extracting: images/Train/Pikachu/382.jpg  \n",
            " extracting: images/Train/Pikachu/383.jpg  \n",
            " extracting: images/Train/Pikachu/379.jpg  \n",
            " extracting: images/Train/Pikachu/384.jpg  \n",
            " extracting: images/Train/Pikachu/385.jpg  \n",
            " extracting: images/Train/Pikachu/386.jpg  \n",
            " extracting: images/Train/Pikachu/387.jpg  \n",
            " extracting: images/Train/Pikachu/388.jpg  \n",
            " extracting: images/Train/Pikachu/393.jpg  \n",
            " extracting: images/Train/Pikachu/394.jpg  \n",
            " extracting: images/Train/Pikachu/389.jpg  \n",
            " extracting: images/Train/Pikachu/390.jpg  \n",
            " extracting: images/Train/Pikachu/391.jpg  \n",
            " extracting: images/Train/Pikachu/392.jpg  \n",
            " extracting: images/Train/Pikachu/395.jpg  \n",
            " extracting: images/Train/Pikachu/396.jpg  \n",
            " extracting: images/Test/Pikachu/2000.jpg  \n",
            " extracting: images/Test/Pikachu/2001.jpg  \n",
            " extracting: images/Test/Pikachu/2003.jpg  \n",
            " extracting: images/Test/Pikachu/2004.jpg  \n",
            " extracting: images/Test/Pikachu/2005.jpg  \n",
            " extracting: images/Test/Pikachu/2006.jpg  \n",
            " extracting: images/Test/Pikachu/2007.jpg  \n",
            " extracting: images/Test/Pikachu/2002.jpg  \n",
            " extracting: images/Test/Pikachu/2008.jpg  \n",
            " extracting: images/Test/Pikachu/2009.jpg  \n",
            " extracting: images/Test/Pikachu/2010.jpg  \n",
            " extracting: images/Test/Pikachu/2011.jpg  \n",
            " extracting: images/Test/Pikachu/2012.jpg  \n",
            " extracting: images/Test/Pikachu/2013.jpg  \n",
            " extracting: images/Test/Pikachu/2014.jpg  \n",
            " extracting: images/Test/Pikachu/2015.jpg  \n",
            " extracting: images/Test/Pikachu/2016.jpg  \n",
            " extracting: images/Test/Pikachu/2017.jpg  \n",
            " extracting: images/Test/Pikachu/2018.jpg  \n",
            " extracting: images/Test/Pikachu/2021.jpg  \n",
            " extracting: images/Test/Pikachu/2019.jpg  \n",
            " extracting: images/Test/Pikachu/2020.jpg  \n",
            " extracting: images/Test/Pikachu/2022.jpg  \n",
            " extracting: images/Test/Pikachu/2023.jpg  \n",
            " extracting: images/Test/Pikachu/2024.jpg  \n",
            " extracting: images/Test/Pikachu/2025.jpg  \n",
            " extracting: images/Test/Pikachu/2026.jpg  \n",
            " extracting: images/Test/Pikachu/2027.jpg  \n",
            " extracting: images/Test/Pikachu/2028.jpg  \n",
            " extracting: images/Test/Pikachu/2029.jpg  \n",
            " extracting: images/Test/Pikachu/2031.jpg  \n",
            " extracting: images/Test/Pikachu/2032.jpg  \n",
            " extracting: images/Test/Pikachu/2033.jpg  \n",
            " extracting: images/Test/Pikachu/2034.jpg  \n",
            " extracting: images/Test/Pikachu/2030.jpg  \n",
            " extracting: images/Test/Pikachu/2035.jpg  \n",
            " extracting: images/Test/Pikachu/2038.jpg  \n",
            " extracting: images/Test/Pikachu/2036.jpg  \n",
            " extracting: images/Test/Pikachu/2037.jpg  \n",
            " extracting: images/Test/Pikachu/2039.jpg  \n",
            " extracting: images/Train/Bulbasaur/400.jpg  \n",
            " extracting: images/Train/Bulbasaur/397.jpg  \n",
            " extracting: images/Train/Bulbasaur/398.jpg  \n",
            " extracting: images/Train/Bulbasaur/399.jpg  \n",
            " extracting: images/Train/Bulbasaur/402.jpg  \n",
            " extracting: images/Train/Bulbasaur/404.jpg  \n",
            " extracting: images/Train/Bulbasaur/401.jpg  \n",
            " extracting: images/Train/Bulbasaur/403.jpg  \n",
            " extracting: images/Train/Bulbasaur/405.jpg  \n",
            " extracting: images/Train/Bulbasaur/407.jpg  \n",
            " extracting: images/Train/Bulbasaur/409.jpg  \n",
            " extracting: images/Train/Bulbasaur/406.jpg  \n",
            " extracting: images/Train/Bulbasaur/408.jpg  \n",
            " extracting: images/Train/Bulbasaur/410.jpg  \n",
            " extracting: images/Train/Bulbasaur/411.jpg  \n",
            " extracting: images/Train/Bulbasaur/412.jpg  \n",
            " extracting: images/Train/Bulbasaur/413.jpg  \n",
            " extracting: images/Train/Bulbasaur/414.jpg  \n",
            " extracting: images/Train/Bulbasaur/415.jpg  \n",
            " extracting: images/Train/Bulbasaur/416.jpg  \n",
            " extracting: images/Train/Bulbasaur/417.jpg  \n",
            " extracting: images/Train/Bulbasaur/418.jpg  \n",
            " extracting: images/Train/Bulbasaur/419.jpg  \n",
            " extracting: images/Train/Bulbasaur/420.jpg  \n",
            " extracting: images/Train/Bulbasaur/421.jpg  \n",
            " extracting: images/Train/Bulbasaur/422.jpg  \n",
            " extracting: images/Train/Bulbasaur/423.jpg  \n",
            " extracting: images/Train/Bulbasaur/424.jpg  \n",
            " extracting: images/Train/Bulbasaur/425.jpg  \n",
            " extracting: images/Train/Bulbasaur/426.jpg  \n",
            " extracting: images/Train/Bulbasaur/427.jpg  \n",
            " extracting: images/Train/Bulbasaur/428.jpg  \n",
            " extracting: images/Train/Bulbasaur/429.jpg  \n",
            " extracting: images/Train/Bulbasaur/430.jpg  \n",
            " extracting: images/Train/Bulbasaur/431.jpg  \n",
            " extracting: images/Train/Bulbasaur/432.jpg  \n",
            " extracting: images/Train/Bulbasaur/433.jpg  \n",
            " extracting: images/Train/Bulbasaur/435.jpg  \n",
            " extracting: images/Train/Bulbasaur/436.jpg  \n",
            " extracting: images/Train/Bulbasaur/437.jpg  \n",
            " extracting: images/Train/Bulbasaur/438.jpg  \n",
            " extracting: images/Train/Bulbasaur/439.jpg  \n",
            " extracting: images/Train/Bulbasaur/440.jpg  \n",
            " extracting: images/Train/Bulbasaur/441.jpg  \n",
            " extracting: images/Train/Bulbasaur/442.jpg  \n",
            " extracting: images/Train/Bulbasaur/434.jpg  \n",
            " extracting: images/Train/Bulbasaur/443.jpg  \n",
            " extracting: images/Train/Bulbasaur/445.jpg  \n",
            " extracting: images/Train/Bulbasaur/446.jpg  \n",
            " extracting: images/Train/Bulbasaur/447.jpg  \n",
            " extracting: images/Train/Bulbasaur/448.jpg  \n",
            " extracting: images/Train/Bulbasaur/449.jpg  \n",
            " extracting: images/Train/Bulbasaur/450.jpg  \n",
            " extracting: images/Train/Bulbasaur/451.jpg  \n",
            " extracting: images/Train/Bulbasaur/452.jpg  \n",
            " extracting: images/Train/Bulbasaur/453.jpg  \n",
            " extracting: images/Train/Bulbasaur/444.jpg  \n",
            " extracting: images/Train/Bulbasaur/455.jpg  \n",
            " extracting: images/Train/Bulbasaur/456.jpg  \n",
            " extracting: images/Train/Bulbasaur/457.jpg  \n",
            " extracting: images/Train/Bulbasaur/458.jpg  \n",
            " extracting: images/Train/Bulbasaur/459.jpg  \n",
            " extracting: images/Train/Bulbasaur/460.jpg  \n",
            " extracting: images/Train/Bulbasaur/461.jpg  \n",
            " extracting: images/Train/Bulbasaur/462.jpg  \n",
            " extracting: images/Train/Bulbasaur/463.jpg  \n",
            " extracting: images/Train/Bulbasaur/454.jpg  \n",
            " extracting: images/Train/Bulbasaur/465.jpg  \n",
            " extracting: images/Train/Bulbasaur/466.jpg  \n",
            " extracting: images/Train/Bulbasaur/467.jpg  \n",
            " extracting: images/Train/Bulbasaur/464.jpg  \n",
            " extracting: images/Train/Bulbasaur/468.jpg  \n",
            " extracting: images/Train/Bulbasaur/469.jpg  \n",
            " extracting: images/Train/Bulbasaur/470.jpg  \n",
            " extracting: images/Train/Bulbasaur/471.jpg  \n",
            " extracting: images/Train/Bulbasaur/472.jpg  \n",
            " extracting: images/Train/Bulbasaur/473.jpg  \n",
            " extracting: images/Train/Bulbasaur/475.jpg  \n",
            " extracting: images/Train/Bulbasaur/476.jpg  \n",
            " extracting: images/Train/Bulbasaur/477.jpg  \n",
            " extracting: images/Train/Bulbasaur/478.jpg  \n",
            " extracting: images/Train/Bulbasaur/479.jpg  \n",
            " extracting: images/Train/Bulbasaur/480.jpg  \n",
            " extracting: images/Train/Bulbasaur/481.jpg  \n",
            " extracting: images/Train/Bulbasaur/474.jpg  \n",
            " extracting: images/Train/Bulbasaur/482.jpg  \n",
            " extracting: images/Train/Bulbasaur/483.jpg  \n",
            " extracting: images/Train/Bulbasaur/485.jpg  \n",
            " extracting: images/Train/Bulbasaur/486.jpg  \n",
            " extracting: images/Train/Bulbasaur/487.jpg  \n",
            " extracting: images/Train/Bulbasaur/489.jpg  \n",
            " extracting: images/Train/Bulbasaur/490.jpg  \n",
            " extracting: images/Train/Bulbasaur/484.jpg  \n",
            " extracting: images/Train/Bulbasaur/488.jpg  \n",
            " extracting: images/Train/Bulbasaur/491.jpg  \n",
            " extracting: images/Train/Bulbasaur/493.jpg  \n",
            " extracting: images/Train/Bulbasaur/494.jpg  \n",
            " extracting: images/Train/Bulbasaur/495.jpg  \n",
            " extracting: images/Train/Bulbasaur/496.jpg  \n",
            " extracting: images/Train/Bulbasaur/497.jpg  \n",
            " extracting: images/Train/Bulbasaur/492.jpg  \n",
            " extracting: images/Test/Bulbasaur/1101.jpg  \n",
            " extracting: images/Test/Bulbasaur/1103.jpg  \n",
            " extracting: images/Test/Bulbasaur/1100.jpg  \n",
            " extracting: images/Test/Bulbasaur/1102.jpg  \n",
            " extracting: images/Test/Bulbasaur/1104.jpg  \n",
            " extracting: images/Test/Bulbasaur/1105.jpg  \n",
            " extracting: images/Test/Bulbasaur/1106.jpg  \n",
            " extracting: images/Test/Bulbasaur/1107.jpg  \n",
            " extracting: images/Test/Bulbasaur/1108.jpg  \n",
            " extracting: images/Test/Bulbasaur/1109.jpg  \n",
            " extracting: images/Test/Bulbasaur/1110.jpg  \n",
            " extracting: images/Test/Bulbasaur/1112.jpg  \n",
            " extracting: images/Test/Bulbasaur/1114.jpg  \n",
            " extracting: images/Test/Bulbasaur/1111.jpg  \n",
            " extracting: images/Test/Bulbasaur/1113.jpg  \n",
            " extracting: images/Test/Bulbasaur/1115.jpg  \n",
            " extracting: images/Test/Bulbasaur/1116.jpg  \n",
            " extracting: images/Test/Bulbasaur/1117.jpg  \n",
            " extracting: images/Test/Bulbasaur/1118.jpg  \n",
            " extracting: images/Test/Bulbasaur/1119.jpg  \n",
            " extracting: images/Test/Bulbasaur/1121.jpg  \n",
            " extracting: images/Test/Bulbasaur/1122.jpg  \n",
            " extracting: images/Test/Bulbasaur/1123.jpg  \n",
            " extracting: images/Test/Bulbasaur/1124.jpg  \n",
            " extracting: images/Test/Bulbasaur/1126.jpg  \n",
            " extracting: images/Test/Bulbasaur/1127.jpg  \n",
            " extracting: images/Test/Bulbasaur/1128.jpg  \n",
            " extracting: images/Test/Bulbasaur/1120.jpg  \n",
            " extracting: images/Test/Bulbasaur/1125.jpg  \n",
            " extracting: images/Test/Bulbasaur/1130.jpg  \n",
            " extracting: images/Test/Bulbasaur/1131.jpg  \n",
            " extracting: images/Test/Bulbasaur/1133.jpg  \n",
            " extracting: images/Test/Bulbasaur/1134.jpg  \n",
            " extracting: images/Test/Bulbasaur/1129.jpg  \n",
            " extracting: images/Test/Bulbasaur/1132.jpg  \n",
            " extracting: images/Test/Bulbasaur/1135.jpg  \n",
            " extracting: images/Test/Bulbasaur/1136.jpg  \n",
            " extracting: images/Test/Bulbasaur/1137.jpg  \n",
            " extracting: images/Test/Bulbasaur/1138.jpg  \n",
            " extracting: images/Test/Bulbasaur/1140.jpg  \n",
            " extracting: images/Test/Bulbasaur/1139.jpg  \n",
            " extracting: images/Train/Charmander/498.jpg  \n",
            " extracting: images/Train/Charmander/520.jpg  \n",
            " extracting: images/Train/Charmander/521.jpg  \n",
            " extracting: images/Train/Charmander/523.jpg  \n",
            " extracting: images/Train/Charmander/524.jpg  \n",
            " extracting: images/Train/Charmander/522.jpg  \n",
            " extracting: images/Train/Charmander/525.jpg  \n",
            " extracting: images/Train/Charmander/526.jpg  \n",
            " extracting: images/Train/Charmander/527.jpg  \n",
            " extracting: images/Train/Charmander/528.jpg  \n",
            " extracting: images/Train/Charmander/529.jpg  \n",
            " extracting: images/Train/Charmander/530.jpg  \n",
            " extracting: images/Train/Charmander/531.jpg  \n",
            " extracting: images/Train/Charmander/533.jpg  \n",
            " extracting: images/Train/Charmander/534.jpg  \n",
            " extracting: images/Train/Charmander/535.jpg  \n",
            " extracting: images/Train/Charmander/538.jpg  \n",
            " extracting: images/Train/Charmander/532.jpg  \n",
            " extracting: images/Train/Charmander/536.jpg  \n",
            " extracting: images/Train/Charmander/537.jpg  \n",
            " extracting: images/Train/Charmander/539.jpg  \n",
            " extracting: images/Train/Charmander/540.jpg  \n",
            " extracting: images/Train/Charmander/541.jpg  \n",
            " extracting: images/Train/Charmander/543.jpg  \n",
            " extracting: images/Train/Charmander/544.jpg  \n",
            " extracting: images/Train/Charmander/545.jpg  \n",
            " extracting: images/Train/Charmander/546.jpg  \n",
            " extracting: images/Train/Charmander/548.jpg  \n",
            " extracting: images/Train/Charmander/549.jpg  \n",
            " extracting: images/Train/Charmander/542.jpg  \n",
            " extracting: images/Train/Charmander/547.jpg  \n",
            " extracting: images/Train/Charmander/550.jpg  \n",
            " extracting: images/Train/Charmander/551.jpg  \n",
            " extracting: images/Train/Charmander/552.jpg  \n",
            " extracting: images/Train/Charmander/553.jpg  \n",
            " extracting: images/Train/Charmander/554.jpg  \n",
            " extracting: images/Train/Charmander/555.jpg  \n",
            " extracting: images/Train/Charmander/556.jpg  \n",
            " extracting: images/Train/Charmander/557.jpg  \n",
            " extracting: images/Train/Charmander/558.jpg  \n",
            " extracting: images/Train/Charmander/559.jpg  \n",
            " extracting: images/Train/Charmander/561.jpg  \n",
            " extracting: images/Train/Charmander/560.jpg  \n",
            " extracting: images/Train/Charmander/563.jpg  \n",
            " extracting: images/Train/Charmander/564.jpg  \n",
            " extracting: images/Train/Charmander/566.jpg  \n",
            " extracting: images/Train/Charmander/562.jpg  \n",
            " extracting: images/Train/Charmander/565.jpg  \n",
            " extracting: images/Train/Charmander/567.jpg  \n",
            " extracting: images/Train/Charmander/569.jpg  \n",
            " extracting: images/Train/Charmander/570.jpg  \n",
            " extracting: images/Train/Charmander/571.jpg  \n",
            " extracting: images/Train/Charmander/568.jpg  \n",
            " extracting: images/Train/Charmander/572.jpg  \n",
            " extracting: images/Train/Charmander/573.jpg  \n",
            " extracting: images/Train/Charmander/574.jpg  \n",
            " extracting: images/Train/Charmander/575.jpg  \n",
            " extracting: images/Train/Charmander/576.jpg  \n",
            " extracting: images/Train/Charmander/578.jpg  \n",
            " extracting: images/Train/Charmander/579.jpg  \n",
            " extracting: images/Train/Charmander/580.jpg  \n",
            " extracting: images/Train/Charmander/581.jpg  \n",
            " extracting: images/Train/Charmander/582.jpg  \n",
            " extracting: images/Train/Charmander/577.jpg  \n",
            " extracting: images/Train/Charmander/584.jpg  \n",
            " extracting: images/Train/Charmander/586.jpg  \n",
            " extracting: images/Train/Charmander/587.jpg  \n",
            " extracting: images/Train/Charmander/583.jpg  \n",
            " extracting: images/Train/Charmander/588.jpg  \n",
            " extracting: images/Train/Charmander/589.jpg  \n",
            " extracting: images/Train/Charmander/590.jpg  \n",
            " extracting: images/Train/Charmander/591.jpg  \n",
            " extracting: images/Train/Charmander/585.jpg  \n",
            " extracting: images/Train/Charmander/592.jpg  \n",
            " extracting: images/Train/Charmander/593.jpg  \n",
            " extracting: images/Train/Charmander/595.jpg  \n",
            " extracting: images/Train/Charmander/596.jpg  \n",
            " extracting: images/Train/Charmander/597.jpg  \n",
            " extracting: images/Train/Charmander/598.jpg  \n",
            " extracting: images/Train/Charmander/599.jpg  \n",
            " extracting: images/Train/Charmander/600.jpg  \n",
            " extracting: images/Train/Charmander/601.jpg  \n",
            " extracting: images/Train/Charmander/602.jpg  \n",
            " extracting: images/Train/Charmander/594.jpg  \n",
            " extracting: images/Train/Charmander/603.jpg  \n",
            " extracting: images/Train/Charmander/605.jpg  \n",
            " extracting: images/Train/Charmander/607.jpg  \n",
            " extracting: images/Train/Charmander/606.jpg  \n",
            " extracting: images/Train/Charmander/608.jpg  \n",
            " extracting: images/Train/Charmander/609.jpg  \n",
            " extracting: images/Train/Charmander/610.jpg  \n",
            " extracting: images/Train/Charmander/611.jpg  \n",
            " extracting: images/Train/Charmander/612.jpg  \n",
            " extracting: images/Train/Charmander/604.jpg  \n",
            " extracting: images/Train/Charmander/614.jpg  \n",
            " extracting: images/Train/Charmander/615.jpg  \n",
            " extracting: images/Train/Charmander/616.jpg  \n",
            " extracting: images/Train/Charmander/617.jpg  \n",
            " extracting: images/Train/Charmander/620.jpg  \n",
            " extracting: images/Train/Charmander/613.jpg  \n",
            " extracting: images/Train/Charmander/618.jpg  \n",
            " extracting: images/Train/Charmander/619.jpg  \n",
            " extracting: images/Test/Charmander/2040.jpg  \n",
            " extracting: images/Test/Charmander/2200.jpg  \n",
            " extracting: images/Test/Charmander/2201.jpg  \n",
            " extracting: images/Test/Charmander/2202.jpg  \n",
            " extracting: images/Test/Charmander/2204.jpg  \n",
            " extracting: images/Test/Charmander/2205.jpg  \n",
            " extracting: images/Test/Charmander/2206.jpg  \n",
            " extracting: images/Test/Charmander/2203.jpg  \n",
            " extracting: images/Test/Charmander/2208.jpg  \n",
            " extracting: images/Test/Charmander/2209.jpg  \n",
            " extracting: images/Test/Charmander/2210.jpg  \n",
            " extracting: images/Test/Charmander/2211.jpg  \n",
            " extracting: images/Test/Charmander/2212.jpg  \n",
            " extracting: images/Test/Charmander/2213.jpg  \n",
            " extracting: images/Test/Charmander/2215.jpg  \n",
            " extracting: images/Test/Charmander/2207.jpg  \n",
            " extracting: images/Test/Charmander/2214.jpg  \n",
            " extracting: images/Test/Charmander/2216.jpg  \n",
            " extracting: images/Test/Charmander/2217.jpg  \n",
            " extracting: images/Test/Charmander/2218.jpg  \n",
            " extracting: images/Test/Charmander/2219.jpg  \n",
            " extracting: images/Test/Charmander/2220.jpg  \n",
            " extracting: images/Test/Charmander/2221.jpg  \n",
            " extracting: images/Test/Charmander/2222.jpg  \n",
            " extracting: images/Test/Charmander/2223.jpg  \n",
            " extracting: images/Test/Charmander/2225.jpg  \n",
            " extracting: images/Test/Charmander/2226.jpg  \n",
            " extracting: images/Test/Charmander/2227.jpg  \n",
            " extracting: images/Test/Charmander/2228.jpg  \n",
            " extracting: images/Test/Charmander/2229.jpg  \n",
            " extracting: images/Test/Charmander/2230.jpg  \n",
            " extracting: images/Test/Charmander/2231.jpg  \n",
            " extracting: images/Test/Charmander/2232.jpg  \n",
            " extracting: images/Test/Charmander/2235.jpg  \n",
            " extracting: images/Test/Charmander/2236.jpg  \n",
            " extracting: images/Test/Charmander/2237.jpg  \n",
            " extracting: images/Test/Charmander/2224.jpg  \n",
            " extracting: images/Test/Charmander/2233.jpg  \n",
            " extracting: images/Test/Charmander/2234.jpg  \n",
            " extracting: images/Test/Charmander/2238.jpg  \n",
            " extracting: images/Test/Charmander/2239.jpg  \n",
            " extracting: images/Test/Charmander/2240.jpg  \n",
            "\n",
            "1 archive had fatal errors.\n"
          ]
        }
      ]
    },
    {
      "cell_type": "code",
      "source": [
        "classes = os.listdir(\"images/Train\")\n",
        "classes"
      ],
      "metadata": {
        "colab": {
          "base_uri": "https://localhost:8080/"
        },
        "id": "wsQhHmDPh60G",
        "outputId": "bbf44cb0-2a98-41ac-bf9c-819a2f664030"
      },
      "execution_count": 4,
      "outputs": [
        {
          "output_type": "execute_result",
          "data": {
            "text/plain": [
              "['Bulbasaur', 'Pikachu', 'Charmander']"
            ]
          },
          "metadata": {},
          "execution_count": 4
        }
      ]
    },
    {
      "cell_type": "code",
      "source": [
        "# to find how many images in each folder under Train\n",
        "print(\"Training Data:\")\n",
        "for f in classes:\n",
        "  path = \"images/Train/\" + f\n",
        "#  length = len(os.listdir(path))\n",
        "  print(f\"{f} - {len(os.listdir(path))}\")"
      ],
      "metadata": {
        "colab": {
          "base_uri": "https://localhost:8080/"
        },
        "id": "nJ630mKlin-A",
        "outputId": "6a4888e5-dba6-4e27-a521-0287b429ada7"
      },
      "execution_count": 5,
      "outputs": [
        {
          "output_type": "stream",
          "name": "stdout",
          "text": [
            "Training Data:\n",
            "Bulbasaur - 101\n",
            "Pikachu - 101\n",
            "Charmander - 102\n"
          ]
        }
      ]
    },
    {
      "cell_type": "code",
      "source": [
        "# to find how many images in each folder under Test\n",
        "print(\"Test Data:\")\n",
        "for f in classes:\n",
        "  path = \"images/Test/\" + f\n",
        "  print(f\"{f} - {len(os.listdir(path))}\")"
      ],
      "metadata": {
        "colab": {
          "base_uri": "https://localhost:8080/"
        },
        "id": "lGNj7HKfjWGw",
        "outputId": "49163b2a-3b69-4f16-9024-5409c6551e35"
      },
      "execution_count": 6,
      "outputs": [
        {
          "output_type": "stream",
          "name": "stdout",
          "text": [
            "Test Data:\n",
            "Bulbasaur - 41\n",
            "Pikachu - 40\n",
            "Charmander - 42\n"
          ]
        }
      ]
    },
    {
      "cell_type": "code",
      "source": [
        "# RGB > 1 image representation will have a shape of (100, 100, 3)"
      ],
      "metadata": {
        "id": "i9rKcxmPjzQT"
      },
      "execution_count": 7,
      "outputs": []
    },
    {
      "cell_type": "code",
      "source": [
        "# Current data is in unstructured format in the form of files and folders"
      ],
      "metadata": {
        "id": "dwWCg_VGk2b-"
      },
      "execution_count": 8,
      "outputs": []
    },
    {
      "cell_type": "code",
      "source": [
        "!pip install keras_preprocessing"
      ],
      "metadata": {
        "colab": {
          "base_uri": "https://localhost:8080/"
        },
        "id": "b_SSiTs6o4EO",
        "outputId": "ba64e0e1-5f08-478a-bdbd-7dfe0b9ac763"
      },
      "execution_count": 9,
      "outputs": [
        {
          "output_type": "stream",
          "name": "stdout",
          "text": [
            "Collecting keras_preprocessing\n",
            "  Downloading Keras_Preprocessing-1.1.2-py2.py3-none-any.whl.metadata (1.9 kB)\n",
            "Requirement already satisfied: numpy>=1.9.1 in /usr/local/lib/python3.11/dist-packages (from keras_preprocessing) (2.0.2)\n",
            "Requirement already satisfied: six>=1.9.0 in /usr/local/lib/python3.11/dist-packages (from keras_preprocessing) (1.17.0)\n",
            "Downloading Keras_Preprocessing-1.1.2-py2.py3-none-any.whl (42 kB)\n",
            "\u001b[2K   \u001b[90m━━━━━━━━━━━━━━━━━━━━━━━━━━━━━━━━━━━━━━━━\u001b[0m \u001b[32m42.6/42.6 kB\u001b[0m \u001b[31m1.8 MB/s\u001b[0m eta \u001b[36m0:00:00\u001b[0m\n",
            "\u001b[?25hInstalling collected packages: keras_preprocessing\n",
            "Successfully installed keras_preprocessing-1.1.2\n"
          ]
        }
      ]
    },
    {
      "cell_type": "code",
      "source": [
        "from keras_preprocessing import image"
      ],
      "metadata": {
        "id": "JigSeeZfobLg"
      },
      "execution_count": 10,
      "outputs": []
    },
    {
      "cell_type": "code",
      "source": [
        "# data loading\n",
        "train_data = [] #X\n",
        "train_lables = [] #Y"
      ],
      "metadata": {
        "id": "Dbg2pzuPpid2"
      },
      "execution_count": 11,
      "outputs": []
    },
    {
      "cell_type": "code",
      "source": [
        "path = \"images/Train/Pikachu/300.jpg\"\n",
        "img = image.load_img(path, target_size=(100,100))\n",
        "img"
      ],
      "metadata": {
        "colab": {
          "base_uri": "https://localhost:8080/",
          "height": 117
        },
        "id": "wyKGzM7n1Gkl",
        "outputId": "026f2060-b457-4670-dea4-a3b5cf34b7ee"
      },
      "execution_count": 12,
      "outputs": [
        {
          "output_type": "execute_result",
          "data": {
            "text/plain": [
              "<PIL.Image.Image image mode=RGB size=100x100>"
            ],
            "image/png": "[encoded data removed]",
            "image/jpeg": "[encoded data removed]"
          },
          "metadata": {},
          "execution_count": 12
        }
      ]
    },
    {
      "cell_type": "code",
      "source": [
        "# convert this image to array\n",
        "\n",
        "path = \"images/Train/Pikachu/300.jpg\"\n",
        "img = image.load_img(path, target_size=(100,100))\n",
        "img = image.img_to_array(img)\n",
        "img.shape\n",
        "# img"
      ],
      "metadata": {
        "colab": {
          "base_uri": "https://localhost:8080/"
        },
        "id": "aW9zDDRi2ERy",
        "outputId": "8f755f88-7b54-4d3e-b5e0-8d6035c085bc"
      },
      "execution_count": 13,
      "outputs": [
        {
          "output_type": "execute_result",
          "data": {
            "text/plain": [
              "(100, 100, 3)"
            ]
          },
          "metadata": {},
          "execution_count": 13
        }
      ]
    },
    {
      "cell_type": "code",
      "source": [
        "for category in classes:\n",
        "  folder = f\"images/Train/{category}\"\n",
        "  for img_name in os.listdir(folder):\n",
        "    img_path = f\"{folder}/{img_name}\"\n",
        "\n",
        "    img = image.load_img(path, target_size=(100,100))\n",
        "    img = image.img_to_array(img)\n",
        "    train_data.append(img)\n",
        "    train_lables.append(category)"
      ],
      "metadata": {
        "id": "poy0bdIJ3Vto"
      },
      "execution_count": 14,
      "outputs": []
    },
    {
      "cell_type": "code",
      "source": [
        "len(train_data)"
      ],
      "metadata": {
        "colab": {
          "base_uri": "https://localhost:8080/"
        },
        "id": "wnzPTzLp4PJ7",
        "outputId": "cc4ee13d-d9e5-48ce-e71e-97455f851e95"
      },
      "execution_count": 15,
      "outputs": [
        {
          "output_type": "execute_result",
          "data": {
            "text/plain": [
              "304"
            ]
          },
          "metadata": {},
          "execution_count": 15
        }
      ]
    },
    {
      "cell_type": "code",
      "source": [
        "len(train_lables)"
      ],
      "metadata": {
        "colab": {
          "base_uri": "https://localhost:8080/"
        },
        "id": "CtJJsulTVgFs",
        "outputId": "2b1db5aa-fbf2-4291-efef-43c01aa81ac9"
      },
      "execution_count": 16,
      "outputs": [
        {
          "output_type": "execute_result",
          "data": {
            "text/plain": [
              "304"
            ]
          },
          "metadata": {},
          "execution_count": 16
        }
      ]
    },
    {
      "cell_type": "code",
      "source": [
        "### Data Preprocessing"
      ],
      "metadata": {
        "id": "h2QVJZys3IUC"
      },
      "execution_count": 17,
      "outputs": []
    },
    {
      "cell_type": "code",
      "source": [
        "train_data = np.array(train_data)\n",
        "train_lables = np.array(train_lables)"
      ],
      "metadata": {
        "id": "xuQ4fM5lVpXv"
      },
      "execution_count": 18,
      "outputs": []
    },
    {
      "cell_type": "code",
      "source": [
        "train_data"
      ],
      "metadata": {
        "colab": {
          "base_uri": "https://localhost:8080/"
        },
        "id": "6AYKbwJoV5U1",
        "outputId": "f534b358-5536-44e3-ff2a-d665d75d7da1"
      },
      "execution_count": 19,
      "outputs": [
        {
          "output_type": "execute_result",
          "data": {
            "text/plain": [
              "array([[[[255., 255., 255.],\n",
              "         [255., 255., 255.],\n",
              "         [255., 255., 255.],\n",
              "         ...,\n",
              "         [255., 255., 255.],\n",
              "         [255., 255., 255.],\n",
              "         [255., 255., 255.]],\n",
              "\n",
              "        [[255., 255., 255.],\n",
              "         [255., 255., 255.],\n",
              "         [255., 255., 255.],\n",
              "         ...,\n",
              "         [255., 255., 255.],\n",
              "         [255., 255., 255.],\n",
              "         [255., 255., 255.]],\n",
              "\n",
              "        [[255., 255., 255.],\n",
              "         [255., 255., 255.],\n",
              "         [255., 255., 255.],\n",
              "         ...,\n",
              "         [255., 255., 255.],\n",
              "         [255., 255., 255.],\n",
              "         [255., 255., 255.]],\n",
              "\n",
              "        ...,\n",
              "\n",
              "        [[255., 255., 255.],\n",
              "         [255., 255., 255.],\n",
              "         [255., 255., 255.],\n",
              "         ...,\n",
              "         [255., 255., 255.],\n",
              "         [255., 255., 255.],\n",
              "         [255., 255., 255.]],\n",
              "\n",
              "        [[255., 255., 255.],\n",
              "         [255., 255., 255.],\n",
              "         [255., 255., 255.],\n",
              "         ...,\n",
              "         [255., 255., 255.],\n",
              "         [255., 255., 255.],\n",
              "         [255., 255., 255.]],\n",
              "\n",
              "        [[255., 255., 255.],\n",
              "         [255., 255., 255.],\n",
              "         [255., 255., 255.],\n",
              "         ...,\n",
              "         [255., 255., 255.],\n",
              "         [255., 255., 255.],\n",
              "         [255., 255., 255.]]],\n",
              "\n",
              "\n",
              "       [[[255., 255., 255.],\n",
              "         [255., 255., 255.],\n",
              "         [255., 255., 255.],\n",
              "         ...,\n",
              "         [255., 255., 255.],\n",
              "         [255., 255., 255.],\n",
              "         [255., 255., 255.]],\n",
              "\n",
              "        [[255., 255., 255.],\n",
              "         [255., 255., 255.],\n",
              "         [255., 255., 255.],\n",
              "         ...,\n",
              "         [255., 255., 255.],\n",
              "         [255., 255., 255.],\n",
              "         [255., 255., 255.]],\n",
              "\n",
              "        [[255., 255., 255.],\n",
              "         [255., 255., 255.],\n",
              "         [255., 255., 255.],\n",
              "         ...,\n",
              "         [255., 255., 255.],\n",
              "         [255., 255., 255.],\n",
              "         [255., 255., 255.]],\n",
              "\n",
              "        ...,\n",
              "\n",
              "        [[255., 255., 255.],\n",
              "         [255., 255., 255.],\n",
              "         [255., 255., 255.],\n",
              "         ...,\n",
              "         [255., 255., 255.],\n",
              "         [255., 255., 255.],\n",
              "         [255., 255., 255.]],\n",
              "\n",
              "        [[255., 255., 255.],\n",
              "         [255., 255., 255.],\n",
              "         [255., 255., 255.],\n",
              "         ...,\n",
              "         [255., 255., 255.],\n",
              "         [255., 255., 255.],\n",
              "         [255., 255., 255.]],\n",
              "\n",
              "        [[255., 255., 255.],\n",
              "         [255., 255., 255.],\n",
              "         [255., 255., 255.],\n",
              "         ...,\n",
              "         [255., 255., 255.],\n",
              "         [255., 255., 255.],\n",
              "         [255., 255., 255.]]],\n",
              "\n",
              "\n",
              "       [[[255., 255., 255.],\n",
              "         [255., 255., 255.],\n",
              "         [255., 255., 255.],\n",
              "         ...,\n",
              "         [255., 255., 255.],\n",
              "         [255., 255., 255.],\n",
              "         [255., 255., 255.]],\n",
              "\n",
              "        [[255., 255., 255.],\n",
              "         [255., 255., 255.],\n",
              "         [255., 255., 255.],\n",
              "         ...,\n",
              "         [255., 255., 255.],\n",
              "         [255., 255., 255.],\n",
              "         [255., 255., 255.]],\n",
              "\n",
              "        [[255., 255., 255.],\n",
              "         [255., 255., 255.],\n",
              "         [255., 255., 255.],\n",
              "         ...,\n",
              "         [255., 255., 255.],\n",
              "         [255., 255., 255.],\n",
              "         [255., 255., 255.]],\n",
              "\n",
              "        ...,\n",
              "\n",
              "        [[255., 255., 255.],\n",
              "         [255., 255., 255.],\n",
              "         [255., 255., 255.],\n",
              "         ...,\n",
              "         [255., 255., 255.],\n",
              "         [255., 255., 255.],\n",
              "         [255., 255., 255.]],\n",
              "\n",
              "        [[255., 255., 255.],\n",
              "         [255., 255., 255.],\n",
              "         [255., 255., 255.],\n",
              "         ...,\n",
              "         [255., 255., 255.],\n",
              "         [255., 255., 255.],\n",
              "         [255., 255., 255.]],\n",
              "\n",
              "        [[255., 255., 255.],\n",
              "         [255., 255., 255.],\n",
              "         [255., 255., 255.],\n",
              "         ...,\n",
              "         [255., 255., 255.],\n",
              "         [255., 255., 255.],\n",
              "         [255., 255., 255.]]],\n",
              "\n",
              "\n",
              "       ...,\n",
              "\n",
              "\n",
              "       [[[255., 255., 255.],\n",
              "         [255., 255., 255.],\n",
              "         [255., 255., 255.],\n",
              "         ...,\n",
              "         [255., 255., 255.],\n",
              "         [255., 255., 255.],\n",
              "         [255., 255., 255.]],\n",
              "\n",
              "        [[255., 255., 255.],\n",
              "         [255., 255., 255.],\n",
              "         [255., 255., 255.],\n",
              "         ...,\n",
              "         [255., 255., 255.],\n",
              "         [255., 255., 255.],\n",
              "         [255., 255., 255.]],\n",
              "\n",
              "        [[255., 255., 255.],\n",
              "         [255., 255., 255.],\n",
              "         [255., 255., 255.],\n",
              "         ...,\n",
              "         [255., 255., 255.],\n",
              "         [255., 255., 255.],\n",
              "         [255., 255., 255.]],\n",
              "\n",
              "        ...,\n",
              "\n",
              "        [[255., 255., 255.],\n",
              "         [255., 255., 255.],\n",
              "         [255., 255., 255.],\n",
              "         ...,\n",
              "         [255., 255., 255.],\n",
              "         [255., 255., 255.],\n",
              "         [255., 255., 255.]],\n",
              "\n",
              "        [[255., 255., 255.],\n",
              "         [255., 255., 255.],\n",
              "         [255., 255., 255.],\n",
              "         ...,\n",
              "         [255., 255., 255.],\n",
              "         [255., 255., 255.],\n",
              "         [255., 255., 255.]],\n",
              "\n",
              "        [[255., 255., 255.],\n",
              "         [255., 255., 255.],\n",
              "         [255., 255., 255.],\n",
              "         ...,\n",
              "         [255., 255., 255.],\n",
              "         [255., 255., 255.],\n",
              "         [255., 255., 255.]]],\n",
              "\n",
              "\n",
              "       [[[255., 255., 255.],\n",
              "         [255., 255., 255.],\n",
              "         [255., 255., 255.],\n",
              "         ...,\n",
              "         [255., 255., 255.],\n",
              "         [255., 255., 255.],\n",
              "         [255., 255., 255.]],\n",
              "\n",
              "        [[255., 255., 255.],\n",
              "         [255., 255., 255.],\n",
              "         [255., 255., 255.],\n",
              "         ...,\n",
              "         [255., 255., 255.],\n",
              "         [255., 255., 255.],\n",
              "         [255., 255., 255.]],\n",
              "\n",
              "        [[255., 255., 255.],\n",
              "         [255., 255., 255.],\n",
              "         [255., 255., 255.],\n",
              "         ...,\n",
              "         [255., 255., 255.],\n",
              "         [255., 255., 255.],\n",
              "         [255., 255., 255.]],\n",
              "\n",
              "        ...,\n",
              "\n",
              "        [[255., 255., 255.],\n",
              "         [255., 255., 255.],\n",
              "         [255., 255., 255.],\n",
              "         ...,\n",
              "         [255., 255., 255.],\n",
              "         [255., 255., 255.],\n",
              "         [255., 255., 255.]],\n",
              "\n",
              "        [[255., 255., 255.],\n",
              "         [255., 255., 255.],\n",
              "         [255., 255., 255.],\n",
              "         ...,\n",
              "         [255., 255., 255.],\n",
              "         [255., 255., 255.],\n",
              "         [255., 255., 255.]],\n",
              "\n",
              "        [[255., 255., 255.],\n",
              "         [255., 255., 255.],\n",
              "         [255., 255., 255.],\n",
              "         ...,\n",
              "         [255., 255., 255.],\n",
              "         [255., 255., 255.],\n",
              "         [255., 255., 255.]]],\n",
              "\n",
              "\n",
              "       [[[255., 255., 255.],\n",
              "         [255., 255., 255.],\n",
              "         [255., 255., 255.],\n",
              "         ...,\n",
              "         [255., 255., 255.],\n",
              "         [255., 255., 255.],\n",
              "         [255., 255., 255.]],\n",
              "\n",
              "        [[255., 255., 255.],\n",
              "         [255., 255., 255.],\n",
              "         [255., 255., 255.],\n",
              "         ...,\n",
              "         [255., 255., 255.],\n",
              "         [255., 255., 255.],\n",
              "         [255., 255., 255.]],\n",
              "\n",
              "        [[255., 255., 255.],\n",
              "         [255., 255., 255.],\n",
              "         [255., 255., 255.],\n",
              "         ...,\n",
              "         [255., 255., 255.],\n",
              "         [255., 255., 255.],\n",
              "         [255., 255., 255.]],\n",
              "\n",
              "        ...,\n",
              "\n",
              "        [[255., 255., 255.],\n",
              "         [255., 255., 255.],\n",
              "         [255., 255., 255.],\n",
              "         ...,\n",
              "         [255., 255., 255.],\n",
              "         [255., 255., 255.],\n",
              "         [255., 255., 255.]],\n",
              "\n",
              "        [[255., 255., 255.],\n",
              "         [255., 255., 255.],\n",
              "         [255., 255., 255.],\n",
              "         ...,\n",
              "         [255., 255., 255.],\n",
              "         [255., 255., 255.],\n",
              "         [255., 255., 255.]],\n",
              "\n",
              "        [[255., 255., 255.],\n",
              "         [255., 255., 255.],\n",
              "         [255., 255., 255.],\n",
              "         ...,\n",
              "         [255., 255., 255.],\n",
              "         [255., 255., 255.],\n",
              "         [255., 255., 255.]]]], dtype=float32)"
            ]
          },
          "metadata": {},
          "execution_count": 19
        }
      ]
    },
    {
      "cell_type": "code",
      "source": [
        "train_data.shape"
      ],
      "metadata": {
        "colab": {
          "base_uri": "https://localhost:8080/"
        },
        "id": "eigkfbp3V8De",
        "outputId": "dac41a4b-ed70-42d1-fe4d-1fcfc2021f77"
      },
      "execution_count": 20,
      "outputs": [
        {
          "output_type": "execute_result",
          "data": {
            "text/plain": [
              "(304, 100, 100, 3)"
            ]
          },
          "metadata": {},
          "execution_count": 20
        }
      ]
    },
    {
      "cell_type": "code",
      "source": [
        "train_lables.shape"
      ],
      "metadata": {
        "colab": {
          "base_uri": "https://localhost:8080/"
        },
        "id": "1_rsf4SyWAuP",
        "outputId": "7844445e-421e-45ac-c2e9-7f44e644ea26"
      },
      "execution_count": 21,
      "outputs": [
        {
          "output_type": "execute_result",
          "data": {
            "text/plain": [
              "(304,)"
            ]
          },
          "metadata": {},
          "execution_count": 21
        }
      ]
    },
    {
      "cell_type": "code",
      "source": [
        "train_data.reshape(len(train_data), 30000)\n",
        "train_data.shape"
      ],
      "metadata": {
        "colab": {
          "base_uri": "https://localhost:8080/"
        },
        "id": "7UswMrodWEjS",
        "outputId": "d427ecb0-e98b-482d-8e1a-3befb8790677"
      },
      "execution_count": 22,
      "outputs": [
        {
          "output_type": "execute_result",
          "data": {
            "text/plain": [
              "(304, 100, 100, 3)"
            ]
          },
          "metadata": {},
          "execution_count": 22
        }
      ]
    },
    {
      "cell_type": "code",
      "source": [
        "train_lables"
      ],
      "metadata": {
        "colab": {
          "base_uri": "https://localhost:8080/"
        },
        "id": "tzy8HLkjWONe",
        "outputId": "a9fa3c5b-356f-4554-b3a2-e2b4b55e703c"
      },
      "execution_count": 23,
      "outputs": [
        {
          "output_type": "execute_result",
          "data": {
            "text/plain": [
              "array(['Bulbasaur', 'Bulbasaur', 'Bulbasaur', 'Bulbasaur', 'Bulbasaur',\n",
              "       'Bulbasaur', 'Bulbasaur', 'Bulbasaur', 'Bulbasaur', 'Bulbasaur',\n",
              "       'Bulbasaur', 'Bulbasaur', 'Bulbasaur', 'Bulbasaur', 'Bulbasaur',\n",
              "       'Bulbasaur', 'Bulbasaur', 'Bulbasaur', 'Bulbasaur', 'Bulbasaur',\n",
              "       'Bulbasaur', 'Bulbasaur', 'Bulbasaur', 'Bulbasaur', 'Bulbasaur',\n",
              "       'Bulbasaur', 'Bulbasaur', 'Bulbasaur', 'Bulbasaur', 'Bulbasaur',\n",
              "       'Bulbasaur', 'Bulbasaur', 'Bulbasaur', 'Bulbasaur', 'Bulbasaur',\n",
              "       'Bulbasaur', 'Bulbasaur', 'Bulbasaur', 'Bulbasaur', 'Bulbasaur',\n",
              "       'Bulbasaur', 'Bulbasaur', 'Bulbasaur', 'Bulbasaur', 'Bulbasaur',\n",
              "       'Bulbasaur', 'Bulbasaur', 'Bulbasaur', 'Bulbasaur', 'Bulbasaur',\n",
              "       'Bulbasaur', 'Bulbasaur', 'Bulbasaur', 'Bulbasaur', 'Bulbasaur',\n",
              "       'Bulbasaur', 'Bulbasaur', 'Bulbasaur', 'Bulbasaur', 'Bulbasaur',\n",
              "       'Bulbasaur', 'Bulbasaur', 'Bulbasaur', 'Bulbasaur', 'Bulbasaur',\n",
              "       'Bulbasaur', 'Bulbasaur', 'Bulbasaur', 'Bulbasaur', 'Bulbasaur',\n",
              "       'Bulbasaur', 'Bulbasaur', 'Bulbasaur', 'Bulbasaur', 'Bulbasaur',\n",
              "       'Bulbasaur', 'Bulbasaur', 'Bulbasaur', 'Bulbasaur', 'Bulbasaur',\n",
              "       'Bulbasaur', 'Bulbasaur', 'Bulbasaur', 'Bulbasaur', 'Bulbasaur',\n",
              "       'Bulbasaur', 'Bulbasaur', 'Bulbasaur', 'Bulbasaur', 'Bulbasaur',\n",
              "       'Bulbasaur', 'Bulbasaur', 'Bulbasaur', 'Bulbasaur', 'Bulbasaur',\n",
              "       'Bulbasaur', 'Bulbasaur', 'Bulbasaur', 'Bulbasaur', 'Bulbasaur',\n",
              "       'Bulbasaur', 'Pikachu', 'Pikachu', 'Pikachu', 'Pikachu', 'Pikachu',\n",
              "       'Pikachu', 'Pikachu', 'Pikachu', 'Pikachu', 'Pikachu', 'Pikachu',\n",
              "       'Pikachu', 'Pikachu', 'Pikachu', 'Pikachu', 'Pikachu', 'Pikachu',\n",
              "       'Pikachu', 'Pikachu', 'Pikachu', 'Pikachu', 'Pikachu', 'Pikachu',\n",
              "       'Pikachu', 'Pikachu', 'Pikachu', 'Pikachu', 'Pikachu', 'Pikachu',\n",
              "       'Pikachu', 'Pikachu', 'Pikachu', 'Pikachu', 'Pikachu', 'Pikachu',\n",
              "       'Pikachu', 'Pikachu', 'Pikachu', 'Pikachu', 'Pikachu', 'Pikachu',\n",
              "       'Pikachu', 'Pikachu', 'Pikachu', 'Pikachu', 'Pikachu', 'Pikachu',\n",
              "       'Pikachu', 'Pikachu', 'Pikachu', 'Pikachu', 'Pikachu', 'Pikachu',\n",
              "       'Pikachu', 'Pikachu', 'Pikachu', 'Pikachu', 'Pikachu', 'Pikachu',\n",
              "       'Pikachu', 'Pikachu', 'Pikachu', 'Pikachu', 'Pikachu', 'Pikachu',\n",
              "       'Pikachu', 'Pikachu', 'Pikachu', 'Pikachu', 'Pikachu', 'Pikachu',\n",
              "       'Pikachu', 'Pikachu', 'Pikachu', 'Pikachu', 'Pikachu', 'Pikachu',\n",
              "       'Pikachu', 'Pikachu', 'Pikachu', 'Pikachu', 'Pikachu', 'Pikachu',\n",
              "       'Pikachu', 'Pikachu', 'Pikachu', 'Pikachu', 'Pikachu', 'Pikachu',\n",
              "       'Pikachu', 'Pikachu', 'Pikachu', 'Pikachu', 'Pikachu', 'Pikachu',\n",
              "       'Pikachu', 'Pikachu', 'Pikachu', 'Pikachu', 'Pikachu', 'Pikachu',\n",
              "       'Charmander', 'Charmander', 'Charmander', 'Charmander',\n",
              "       'Charmander', 'Charmander', 'Charmander', 'Charmander',\n",
              "       'Charmander', 'Charmander', 'Charmander', 'Charmander',\n",
              "       'Charmander', 'Charmander', 'Charmander', 'Charmander',\n",
              "       'Charmander', 'Charmander', 'Charmander', 'Charmander',\n",
              "       'Charmander', 'Charmander', 'Charmander', 'Charmander',\n",
              "       'Charmander', 'Charmander', 'Charmander', 'Charmander',\n",
              "       'Charmander', 'Charmander', 'Charmander', 'Charmander',\n",
              "       'Charmander', 'Charmander', 'Charmander', 'Charmander',\n",
              "       'Charmander', 'Charmander', 'Charmander', 'Charmander',\n",
              "       'Charmander', 'Charmander', 'Charmander', 'Charmander',\n",
              "       'Charmander', 'Charmander', 'Charmander', 'Charmander',\n",
              "       'Charmander', 'Charmander', 'Charmander', 'Charmander',\n",
              "       'Charmander', 'Charmander', 'Charmander', 'Charmander',\n",
              "       'Charmander', 'Charmander', 'Charmander', 'Charmander',\n",
              "       'Charmander', 'Charmander', 'Charmander', 'Charmander',\n",
              "       'Charmander', 'Charmander', 'Charmander', 'Charmander',\n",
              "       'Charmander', 'Charmander', 'Charmander', 'Charmander',\n",
              "       'Charmander', 'Charmander', 'Charmander', 'Charmander',\n",
              "       'Charmander', 'Charmander', 'Charmander', 'Charmander',\n",
              "       'Charmander', 'Charmander', 'Charmander', 'Charmander',\n",
              "       'Charmander', 'Charmander', 'Charmander', 'Charmander',\n",
              "       'Charmander', 'Charmander', 'Charmander', 'Charmander',\n",
              "       'Charmander', 'Charmander', 'Charmander', 'Charmander',\n",
              "       'Charmander', 'Charmander', 'Charmander', 'Charmander',\n",
              "       'Charmander', 'Charmander'], dtype='<U10')"
            ]
          },
          "metadata": {},
          "execution_count": 23
        }
      ]
    },
    {
      "cell_type": "code",
      "source": [
        "category2label = {'Pikachu':0, 'Charmander':1,'Bulbasaur':2}\n",
        "label2category = {0:'Pikachu', 1:'Charmander', 2:'Bulbasaur'}"
      ],
      "metadata": {
        "id": "OUW5OM8FWilU"
      },
      "execution_count": 24,
      "outputs": []
    },
    {
      "cell_type": "code",
      "source": [
        "[category2label[label] for label in train_lables]"
      ],
      "metadata": {
        "colab": {
          "base_uri": "https://localhost:8080/"
        },
        "id": "kPyNE0T9XqGP",
        "outputId": "d8779164-f799-4eb4-e746-98c88ed725e3"
      },
      "execution_count": 25,
      "outputs": [
        {
          "output_type": "execute_result",
          "data": {
            "text/plain": [
              "[2,\n",
              " 2,\n",
              " 2,\n",
              " 2,\n",
              " 2,\n",
              " 2,\n",
              " 2,\n",
              " 2,\n",
              " 2,\n",
              " 2,\n",
              " 2,\n",
              " 2,\n",
              " 2,\n",
              " 2,\n",
              " 2,\n",
              " 2,\n",
              " 2,\n",
              " 2,\n",
              " 2,\n",
              " 2,\n",
              " 2,\n",
              " 2,\n",
              " 2,\n",
              " 2,\n",
              " 2,\n",
              " 2,\n",
              " 2,\n",
              " 2,\n",
              " 2,\n",
              " 2,\n",
              " 2,\n",
              " 2,\n",
              " 2,\n",
              " 2,\n",
              " 2,\n",
              " 2,\n",
              " 2,\n",
              " 2,\n",
              " 2,\n",
              " 2,\n",
              " 2,\n",
              " 2,\n",
              " 2,\n",
              " 2,\n",
              " 2,\n",
              " 2,\n",
              " 2,\n",
              " 2,\n",
              " 2,\n",
              " 2,\n",
              " 2,\n",
              " 2,\n",
              " 2,\n",
              " 2,\n",
              " 2,\n",
              " 2,\n",
              " 2,\n",
              " 2,\n",
              " 2,\n",
              " 2,\n",
              " 2,\n",
              " 2,\n",
              " 2,\n",
              " 2,\n",
              " 2,\n",
              " 2,\n",
              " 2,\n",
              " 2,\n",
              " 2,\n",
              " 2,\n",
              " 2,\n",
              " 2,\n",
              " 2,\n",
              " 2,\n",
              " 2,\n",
              " 2,\n",
              " 2,\n",
              " 2,\n",
              " 2,\n",
              " 2,\n",
              " 2,\n",
              " 2,\n",
              " 2,\n",
              " 2,\n",
              " 2,\n",
              " 2,\n",
              " 2,\n",
              " 2,\n",
              " 2,\n",
              " 2,\n",
              " 2,\n",
              " 2,\n",
              " 2,\n",
              " 2,\n",
              " 2,\n",
              " 2,\n",
              " 2,\n",
              " 2,\n",
              " 2,\n",
              " 2,\n",
              " 2,\n",
              " 0,\n",
              " 0,\n",
              " 0,\n",
              " 0,\n",
              " 0,\n",
              " 0,\n",
              " 0,\n",
              " 0,\n",
              " 0,\n",
              " 0,\n",
              " 0,\n",
              " 0,\n",
              " 0,\n",
              " 0,\n",
              " 0,\n",
              " 0,\n",
              " 0,\n",
              " 0,\n",
              " 0,\n",
              " 0,\n",
              " 0,\n",
              " 0,\n",
              " 0,\n",
              " 0,\n",
              " 0,\n",
              " 0,\n",
              " 0,\n",
              " 0,\n",
              " 0,\n",
              " 0,\n",
              " 0,\n",
              " 0,\n",
              " 0,\n",
              " 0,\n",
              " 0,\n",
              " 0,\n",
              " 0,\n",
              " 0,\n",
              " 0,\n",
              " 0,\n",
              " 0,\n",
              " 0,\n",
              " 0,\n",
              " 0,\n",
              " 0,\n",
              " 0,\n",
              " 0,\n",
              " 0,\n",
              " 0,\n",
              " 0,\n",
              " 0,\n",
              " 0,\n",
              " 0,\n",
              " 0,\n",
              " 0,\n",
              " 0,\n",
              " 0,\n",
              " 0,\n",
              " 0,\n",
              " 0,\n",
              " 0,\n",
              " 0,\n",
              " 0,\n",
              " 0,\n",
              " 0,\n",
              " 0,\n",
              " 0,\n",
              " 0,\n",
              " 0,\n",
              " 0,\n",
              " 0,\n",
              " 0,\n",
              " 0,\n",
              " 0,\n",
              " 0,\n",
              " 0,\n",
              " 0,\n",
              " 0,\n",
              " 0,\n",
              " 0,\n",
              " 0,\n",
              " 0,\n",
              " 0,\n",
              " 0,\n",
              " 0,\n",
              " 0,\n",
              " 0,\n",
              " 0,\n",
              " 0,\n",
              " 0,\n",
              " 0,\n",
              " 0,\n",
              " 0,\n",
              " 0,\n",
              " 0,\n",
              " 0,\n",
              " 0,\n",
              " 0,\n",
              " 0,\n",
              " 0,\n",
              " 0,\n",
              " 1,\n",
              " 1,\n",
              " 1,\n",
              " 1,\n",
              " 1,\n",
              " 1,\n",
              " 1,\n",
              " 1,\n",
              " 1,\n",
              " 1,\n",
              " 1,\n",
              " 1,\n",
              " 1,\n",
              " 1,\n",
              " 1,\n",
              " 1,\n",
              " 1,\n",
              " 1,\n",
              " 1,\n",
              " 1,\n",
              " 1,\n",
              " 1,\n",
              " 1,\n",
              " 1,\n",
              " 1,\n",
              " 1,\n",
              " 1,\n",
              " 1,\n",
              " 1,\n",
              " 1,\n",
              " 1,\n",
              " 1,\n",
              " 1,\n",
              " 1,\n",
              " 1,\n",
              " 1,\n",
              " 1,\n",
              " 1,\n",
              " 1,\n",
              " 1,\n",
              " 1,\n",
              " 1,\n",
              " 1,\n",
              " 1,\n",
              " 1,\n",
              " 1,\n",
              " 1,\n",
              " 1,\n",
              " 1,\n",
              " 1,\n",
              " 1,\n",
              " 1,\n",
              " 1,\n",
              " 1,\n",
              " 1,\n",
              " 1,\n",
              " 1,\n",
              " 1,\n",
              " 1,\n",
              " 1,\n",
              " 1,\n",
              " 1,\n",
              " 1,\n",
              " 1,\n",
              " 1,\n",
              " 1,\n",
              " 1,\n",
              " 1,\n",
              " 1,\n",
              " 1,\n",
              " 1,\n",
              " 1,\n",
              " 1,\n",
              " 1,\n",
              " 1,\n",
              " 1,\n",
              " 1,\n",
              " 1,\n",
              " 1,\n",
              " 1,\n",
              " 1,\n",
              " 1,\n",
              " 1,\n",
              " 1,\n",
              " 1,\n",
              " 1,\n",
              " 1,\n",
              " 1,\n",
              " 1,\n",
              " 1,\n",
              " 1,\n",
              " 1,\n",
              " 1,\n",
              " 1,\n",
              " 1,\n",
              " 1,\n",
              " 1,\n",
              " 1,\n",
              " 1,\n",
              " 1,\n",
              " 1,\n",
              " 1]"
            ]
          },
          "metadata": {},
          "execution_count": 25
        }
      ]
    },
    {
      "cell_type": "code",
      "source": [
        "# convert this to numpy array"
      ],
      "metadata": {
        "id": "3fJlGx78X649"
      },
      "execution_count": 26,
      "outputs": []
    },
    {
      "cell_type": "code",
      "source": [
        "train_labels = np.array([category2label[label] for label in train_lables])"
      ],
      "metadata": {
        "id": "nUhw1idbX_ha"
      },
      "execution_count": 27,
      "outputs": []
    },
    {
      "cell_type": "code",
      "source": [
        "train_lables.shape"
      ],
      "metadata": {
        "colab": {
          "base_uri": "https://localhost:8080/"
        },
        "id": "9O-9B2SDYNdm",
        "outputId": "c0ce5bc8-7d56-499d-c88d-3419e7661edf"
      },
      "execution_count": 28,
      "outputs": [
        {
          "output_type": "execute_result",
          "data": {
            "text/plain": [
              "(304,)"
            ]
          },
          "metadata": {},
          "execution_count": 28
        }
      ]
    },
    {
      "cell_type": "code",
      "source": [
        "from keras.utils import to_categorical"
      ],
      "metadata": {
        "id": "-Zi7ft1BYP7q"
      },
      "execution_count": 29,
      "outputs": []
    },
    {
      "cell_type": "code",
      "source": [
        "train_lables = to_categorical(train_labels)"
      ],
      "metadata": {
        "id": "nhsSdpODZ8I1"
      },
      "execution_count": 30,
      "outputs": []
    },
    {
      "cell_type": "code",
      "source": [
        "train_lables.shape"
      ],
      "metadata": {
        "colab": {
          "base_uri": "https://localhost:8080/"
        },
        "id": "dpzPTA8HaAEs",
        "outputId": "23462ce6-6bb9-42b1-fc21-bdb5bfa0b3f0"
      },
      "execution_count": 31,
      "outputs": [
        {
          "output_type": "execute_result",
          "data": {
            "text/plain": [
              "(304, 3)"
            ]
          },
          "metadata": {},
          "execution_count": 31
        }
      ]
    },
    {
      "cell_type": "code",
      "source": [
        "train_lables[:5]"
      ],
      "metadata": {
        "colab": {
          "base_uri": "https://localhost:8080/"
        },
        "id": "nu0AnKt2aCJH",
        "outputId": "8a0400d1-2674-46b2-dd17-51f30d78a41e"
      },
      "execution_count": 32,
      "outputs": [
        {
          "output_type": "execute_result",
          "data": {
            "text/plain": [
              "array([[0., 0., 1.],\n",
              "       [0., 0., 1.],\n",
              "       [0., 0., 1.],\n",
              "       [0., 0., 1.],\n",
              "       [0., 0., 1.]])"
            ]
          },
          "metadata": {},
          "execution_count": 32
        }
      ]
    },
    {
      "cell_type": "code",
      "source": [
        "# the model architecture\n",
        "# 1. Multi layer neural networks\n",
        "# 2. Activation function\n",
        "# 3. Final layer units\n",
        "# 4. Final layer activation function"
      ],
      "metadata": {
        "id": "s4PMJ4L4aHrg"
      },
      "execution_count": 33,
      "outputs": []
    },
    {
      "cell_type": "code",
      "source": [
        "from keras.layers import Dense\n",
        "from keras import Sequential"
      ],
      "metadata": {
        "id": "3lnxaBSPaV0-"
      },
      "execution_count": 34,
      "outputs": []
    },
    {
      "cell_type": "code",
      "source": [
        "# Reshape train_data to flatten the images\n",
        "train_data = train_data.reshape(train_data.shape[0], -1)\n",
        "# -1 infers the remaining dimension (product of image height, width, channels)"
      ],
      "metadata": {
        "id": "fRu_BE9g4uMI"
      },
      "execution_count": 48,
      "outputs": []
    },
    {
      "cell_type": "code",
      "source": [
        "features = train_data.shape[1]"
      ],
      "metadata": {
        "id": "zuFmv4rkbME6"
      },
      "execution_count": 49,
      "outputs": []
    },
    {
      "cell_type": "code",
      "source": [
        "model = Sequential()\n",
        "model.add(Dense(units = 512, activation='relu', input_shape=(features,)))\n",
        "model.add(Dense(units = 256, activation='relu'))\n",
        "model.add(Dense(units = 128, activation='relu'))\n",
        "model.add(Dense(units = 64, activation='relu'))\n",
        "model.add(Dense(units = 3, activation='softmax'))\n",
        "\n",
        "model.compile(optimizer='adam', loss='categorical_crossentropy', metrics=['accuracy'])"
      ],
      "metadata": {
        "colab": {
          "base_uri": "https://localhost:8080/"
        },
        "id": "xr0iHbuWa09b",
        "outputId": "24a7a85f-ccf5-4594-e2f5-1fd4d6e10fd9"
      },
      "execution_count": 50,
      "outputs": [
        {
          "output_type": "stream",
          "name": "stderr",
          "text": [
            "/usr/local/lib/python3.11/dist-packages/keras/src/layers/core/dense.py:87: UserWarning: Do not pass an `input_shape`/`input_dim` argument to a layer. When using Sequential models, prefer using an `Input(shape)` object as the first layer in the model instead.\n",
            "  super().__init__(activity_regularizer=activity_regularizer, **kwargs)\n"
          ]
        }
      ]
    },
    {
      "cell_type": "code",
      "source": [
        "model.summary()"
      ],
      "metadata": {
        "colab": {
          "base_uri": "https://localhost:8080/",
          "height": 306
        },
        "id": "9cPszRYqb0Zp",
        "outputId": "4402f83b-d03f-4ea6-c435-63096baff7d7"
      },
      "execution_count": 51,
      "outputs": [
        {
          "output_type": "display_data",
          "data": {
            "text/plain": [
              "\u001b[1mModel: \"sequential_3\"\u001b[0m\n"
            ],
            "text/html": [
              "<pre style=\"white-space:pre;overflow-x:auto;line-height:normal;font-family:Menlo,'DejaVu Sans Mono',consolas,'Courier New',monospace\"><span style=\"font-weight: bold\">Model: \"sequential_3\"</span>\n",
              "</pre>\n"
            ]
          },
          "metadata": {}
        },
        {
          "output_type": "display_data",
          "data": {
            "text/plain": [
              "┏━━━━━━━━━━━━━━━━━━━━━━━━━━━━━━━━━┳━━━━━━━━━━━━━━━━━━━━━━━━┳━━━━━━━━━━━━━━━┓\n",
              "┃\u001b[1m \u001b[0m\u001b[1mLayer (type)                   \u001b[0m\u001b[1m \u001b[0m┃\u001b[1m \u001b[0m\u001b[1mOutput Shape          \u001b[0m\u001b[1m \u001b[0m┃\u001b[1m \u001b[0m\u001b[1m      Param #\u001b[0m\u001b[1m \u001b[0m┃\n",
              "┡━━━━━━━━━━━━━━━━━━━━━━━━━━━━━━━━━╇━━━━━━━━━━━━━━━━━━━━━━━━╇━━━━━━━━━━━━━━━┩\n",
              "│ dense_15 (\u001b[38;5;33mDense\u001b[0m)                │ (\u001b[38;5;45mNone\u001b[0m, \u001b[38;5;34m512\u001b[0m)            │    \u001b[38;5;34m15,360,512\u001b[0m │\n",
              "├─────────────────────────────────┼────────────────────────┼───────────────┤\n",
              "│ dense_16 (\u001b[38;5;33mDense\u001b[0m)                │ (\u001b[38;5;45mNone\u001b[0m, \u001b[38;5;34m256\u001b[0m)            │       \u001b[38;5;34m131,328\u001b[0m │\n",
              "├─────────────────────────────────┼────────────────────────┼───────────────┤\n",
              "│ dense_17 (\u001b[38;5;33mDense\u001b[0m)                │ (\u001b[38;5;45mNone\u001b[0m, \u001b[38;5;34m128\u001b[0m)            │        \u001b[38;5;34m32,896\u001b[0m │\n",
              "├─────────────────────────────────┼────────────────────────┼───────────────┤\n",
              "│ dense_18 (\u001b[38;5;33mDense\u001b[0m)                │ (\u001b[38;5;45mNone\u001b[0m, \u001b[38;5;34m64\u001b[0m)             │         \u001b[38;5;34m8,256\u001b[0m │\n",
              "├─────────────────────────────────┼────────────────────────┼───────────────┤\n",
              "│ dense_19 (\u001b[38;5;33mDense\u001b[0m)                │ (\u001b[38;5;45mNone\u001b[0m, \u001b[38;5;34m3\u001b[0m)              │           \u001b[38;5;34m195\u001b[0m │\n",
              "└─────────────────────────────────┴────────────────────────┴───────────────┘\n"
            ],
            "text/html": [
              "<pre style=\"white-space:pre;overflow-x:auto;line-height:normal;font-family:Menlo,'DejaVu Sans Mono',consolas,'Courier New',monospace\">┏━━━━━━━━━━━━━━━━━━━━━━━━━━━━━━━━━┳━━━━━━━━━━━━━━━━━━━━━━━━┳━━━━━━━━━━━━━━━┓\n",
              "┃<span style=\"font-weight: bold\"> Layer (type)                    </span>┃<span style=\"font-weight: bold\"> Output Shape           </span>┃<span style=\"font-weight: bold\">       Param # </span>┃\n",
              "┡━━━━━━━━━━━━━━━━━━━━━━━━━━━━━━━━━╇━━━━━━━━━━━━━━━━━━━━━━━━╇━━━━━━━━━━━━━━━┩\n",
              "│ dense_15 (<span style=\"color: #0087ff; text-decoration-color: #0087ff\">Dense</span>)                │ (<span style=\"color: #00d7ff; text-decoration-color: #00d7ff\">None</span>, <span style=\"color: #00af00; text-decoration-color: #00af00\">512</span>)            │    <span style=\"color: #00af00; text-decoration-color: #00af00\">15,360,512</span> │\n",
              "├─────────────────────────────────┼────────────────────────┼───────────────┤\n",
              "│ dense_16 (<span style=\"color: #0087ff; text-decoration-color: #0087ff\">Dense</span>)                │ (<span style=\"color: #00d7ff; text-decoration-color: #00d7ff\">None</span>, <span style=\"color: #00af00; text-decoration-color: #00af00\">256</span>)            │       <span style=\"color: #00af00; text-decoration-color: #00af00\">131,328</span> │\n",
              "├─────────────────────────────────┼────────────────────────┼───────────────┤\n",
              "│ dense_17 (<span style=\"color: #0087ff; text-decoration-color: #0087ff\">Dense</span>)                │ (<span style=\"color: #00d7ff; text-decoration-color: #00d7ff\">None</span>, <span style=\"color: #00af00; text-decoration-color: #00af00\">128</span>)            │        <span style=\"color: #00af00; text-decoration-color: #00af00\">32,896</span> │\n",
              "├─────────────────────────────────┼────────────────────────┼───────────────┤\n",
              "│ dense_18 (<span style=\"color: #0087ff; text-decoration-color: #0087ff\">Dense</span>)                │ (<span style=\"color: #00d7ff; text-decoration-color: #00d7ff\">None</span>, <span style=\"color: #00af00; text-decoration-color: #00af00\">64</span>)             │         <span style=\"color: #00af00; text-decoration-color: #00af00\">8,256</span> │\n",
              "├─────────────────────────────────┼────────────────────────┼───────────────┤\n",
              "│ dense_19 (<span style=\"color: #0087ff; text-decoration-color: #0087ff\">Dense</span>)                │ (<span style=\"color: #00d7ff; text-decoration-color: #00d7ff\">None</span>, <span style=\"color: #00af00; text-decoration-color: #00af00\">3</span>)              │           <span style=\"color: #00af00; text-decoration-color: #00af00\">195</span> │\n",
              "└─────────────────────────────────┴────────────────────────┴───────────────┘\n",
              "</pre>\n"
            ]
          },
          "metadata": {}
        },
        {
          "output_type": "display_data",
          "data": {
            "text/plain": [
              "\u001b[1m Total params: \u001b[0m\u001b[38;5;34m15,533,187\u001b[0m (59.25 MB)\n"
            ],
            "text/html": [
              "<pre style=\"white-space:pre;overflow-x:auto;line-height:normal;font-family:Menlo,'DejaVu Sans Mono',consolas,'Courier New',monospace\"><span style=\"font-weight: bold\"> Total params: </span><span style=\"color: #00af00; text-decoration-color: #00af00\">15,533,187</span> (59.25 MB)\n",
              "</pre>\n"
            ]
          },
          "metadata": {}
        },
        {
          "output_type": "display_data",
          "data": {
            "text/plain": [
              "\u001b[1m Trainable params: \u001b[0m\u001b[38;5;34m15,533,187\u001b[0m (59.25 MB)\n"
            ],
            "text/html": [
              "<pre style=\"white-space:pre;overflow-x:auto;line-height:normal;font-family:Menlo,'DejaVu Sans Mono',consolas,'Courier New',monospace\"><span style=\"font-weight: bold\"> Trainable params: </span><span style=\"color: #00af00; text-decoration-color: #00af00\">15,533,187</span> (59.25 MB)\n",
              "</pre>\n"
            ]
          },
          "metadata": {}
        },
        {
          "output_type": "display_data",
          "data": {
            "text/plain": [
              "\u001b[1m Non-trainable params: \u001b[0m\u001b[38;5;34m0\u001b[0m (0.00 B)\n"
            ],
            "text/html": [
              "<pre style=\"white-space:pre;overflow-x:auto;line-height:normal;font-family:Menlo,'DejaVu Sans Mono',consolas,'Courier New',monospace\"><span style=\"font-weight: bold\"> Non-trainable params: </span><span style=\"color: #00af00; text-decoration-color: #00af00\">0</span> (0.00 B)\n",
              "</pre>\n"
            ]
          },
          "metadata": {}
        }
      ]
    },
    {
      "cell_type": "code",
      "source": [
        "model.fit(train_data, train_lables, batch_size=32, epochs=50)"
      ],
      "metadata": {
        "colab": {
          "base_uri": "https://localhost:8080/"
        },
        "id": "R4X1LxMUb3k8",
        "outputId": "497671c9-84b0-46d2-ce56-d56c5a67e245"
      },
      "execution_count": 52,
      "outputs": [
        {
          "output_type": "stream",
          "name": "stdout",
          "text": [
            "Epoch 1/50\n",
            "\u001b[1m10/10\u001b[0m \u001b[32m━━━━━━━━━━━━━━━━━━━━\u001b[0m\u001b[37m\u001b[0m \u001b[1m6s\u001b[0m 322ms/step - accuracy: 0.3558 - loss: 2815.1487\n",
            "Epoch 2/50\n",
            "\u001b[1m10/10\u001b[0m \u001b[32m━━━━━━━━━━━━━━━━━━━━\u001b[0m\u001b[37m\u001b[0m \u001b[1m4s\u001b[0m 260ms/step - accuracy: 0.3477 - loss: 2796.8345\n",
            "Epoch 3/50\n",
            "\u001b[1m10/10\u001b[0m \u001b[32m━━━━━━━━━━━━━━━━━━━━\u001b[0m\u001b[37m\u001b[0m \u001b[1m3s\u001b[0m 259ms/step - accuracy: 0.3563 - loss: 3108.7649\n",
            "Epoch 4/50\n",
            "\u001b[1m10/10\u001b[0m \u001b[32m━━━━━━━━━━━━━━━━━━━━\u001b[0m\u001b[37m\u001b[0m \u001b[1m6s\u001b[0m 324ms/step - accuracy: 0.3398 - loss: 1055.3789\n",
            "Epoch 5/50\n",
            "\u001b[1m10/10\u001b[0m \u001b[32m━━━━━━━━━━━━━━━━━━━━\u001b[0m\u001b[37m\u001b[0m \u001b[1m3s\u001b[0m 263ms/step - accuracy: 0.3527 - loss: 926.6309\n",
            "Epoch 6/50\n",
            "\u001b[1m10/10\u001b[0m \u001b[32m━━━━━━━━━━━━━━━━━━━━\u001b[0m\u001b[37m\u001b[0m \u001b[1m5s\u001b[0m 259ms/step - accuracy: 0.2524 - loss: 939.7117\n",
            "Epoch 7/50\n",
            "\u001b[1m10/10\u001b[0m \u001b[32m━━━━━━━━━━━━━━━━━━━━\u001b[0m\u001b[37m\u001b[0m \u001b[1m4s\u001b[0m 367ms/step - accuracy: 0.2930 - loss: 1148.3676\n",
            "Epoch 8/50\n",
            "\u001b[1m10/10\u001b[0m \u001b[32m━━━━━━━━━━━━━━━━━━━━\u001b[0m\u001b[37m\u001b[0m \u001b[1m4s\u001b[0m 262ms/step - accuracy: 0.3803 - loss: 706.9551\n",
            "Epoch 9/50\n",
            "\u001b[1m10/10\u001b[0m \u001b[32m━━━━━━━━━━━━━━━━━━━━\u001b[0m\u001b[37m\u001b[0m \u001b[1m5s\u001b[0m 260ms/step - accuracy: 0.3663 - loss: 445.2066\n",
            "Epoch 10/50\n",
            "\u001b[1m10/10\u001b[0m \u001b[32m━━━━━━━━━━━━━━━━━━━━\u001b[0m\u001b[37m\u001b[0m \u001b[1m5s\u001b[0m 261ms/step - accuracy: 0.3350 - loss: 346.3083\n",
            "Epoch 11/50\n",
            "\u001b[1m10/10\u001b[0m \u001b[32m━━━━━━━━━━━━━━━━━━━━\u001b[0m\u001b[37m\u001b[0m \u001b[1m5s\u001b[0m 258ms/step - accuracy: 0.3223 - loss: 425.0844\n",
            "Epoch 12/50\n",
            "\u001b[1m10/10\u001b[0m \u001b[32m━━━━━━━━━━━━━━━━━━━━\u001b[0m\u001b[37m\u001b[0m \u001b[1m6s\u001b[0m 339ms/step - accuracy: 0.3144 - loss: 293.7247\n",
            "Epoch 13/50\n",
            "\u001b[1m10/10\u001b[0m \u001b[32m━━━━━━━━━━━━━━━━━━━━\u001b[0m\u001b[37m\u001b[0m \u001b[1m4s\u001b[0m 262ms/step - accuracy: 0.2989 - loss: 189.6753\n",
            "Epoch 14/50\n",
            "\u001b[1m10/10\u001b[0m \u001b[32m━━━━━━━━━━━━━━━━━━━━\u001b[0m\u001b[37m\u001b[0m \u001b[1m5s\u001b[0m 271ms/step - accuracy: 0.3388 - loss: 298.5626\n",
            "Epoch 15/50\n",
            "\u001b[1m10/10\u001b[0m \u001b[32m━━━━━━━━━━━━━━━━━━━━\u001b[0m\u001b[37m\u001b[0m \u001b[1m5s\u001b[0m 260ms/step - accuracy: 0.3754 - loss: 298.6328\n",
            "Epoch 16/50\n",
            "\u001b[1m10/10\u001b[0m \u001b[32m━━━━━━━━━━━━━━━━━━━━\u001b[0m\u001b[37m\u001b[0m \u001b[1m3s\u001b[0m 260ms/step - accuracy: 0.3368 - loss: 108.5420\n",
            "Epoch 17/50\n",
            "\u001b[1m10/10\u001b[0m \u001b[32m━━━━━━━━━━━━━━━━━━━━\u001b[0m\u001b[37m\u001b[0m \u001b[1m3s\u001b[0m 260ms/step - accuracy: 0.3817 - loss: 286.3181\n",
            "Epoch 18/50\n",
            "\u001b[1m10/10\u001b[0m \u001b[32m━━━━━━━━━━━━━━━━━━━━\u001b[0m\u001b[37m\u001b[0m \u001b[1m5s\u001b[0m 261ms/step - accuracy: 0.3543 - loss: 310.3754\n",
            "Epoch 19/50\n",
            "\u001b[1m10/10\u001b[0m \u001b[32m━━━━━━━━━━━━━━━━━━━━\u001b[0m\u001b[37m\u001b[0m \u001b[1m5s\u001b[0m 259ms/step - accuracy: 0.2890 - loss: 394.2660\n",
            "Epoch 20/50\n",
            "\u001b[1m10/10\u001b[0m \u001b[32m━━━━━━━━━━━━━━━━━━━━\u001b[0m\u001b[37m\u001b[0m \u001b[1m6s\u001b[0m 368ms/step - accuracy: 0.3279 - loss: 171.7478\n",
            "Epoch 21/50\n",
            "\u001b[1m10/10\u001b[0m \u001b[32m━━━━━━━━━━━━━━━━━━━━\u001b[0m\u001b[37m\u001b[0m \u001b[1m4s\u001b[0m 258ms/step - accuracy: 0.3435 - loss: 255.8528\n",
            "Epoch 22/50\n",
            "\u001b[1m10/10\u001b[0m \u001b[32m━━━━━━━━━━━━━━━━━━━━\u001b[0m\u001b[37m\u001b[0m \u001b[1m5s\u001b[0m 261ms/step - accuracy: 0.3452 - loss: 188.0141\n",
            "Epoch 23/50\n",
            "\u001b[1m10/10\u001b[0m \u001b[32m━━━━━━━━━━━━━━━━━━━━\u001b[0m\u001b[37m\u001b[0m \u001b[1m4s\u001b[0m 374ms/step - accuracy: 0.3561 - loss: 297.2193\n",
            "Epoch 24/50\n",
            "\u001b[1m10/10\u001b[0m \u001b[32m━━━━━━━━━━━━━━━━━━━━\u001b[0m\u001b[37m\u001b[0m \u001b[1m3s\u001b[0m 261ms/step - accuracy: 0.3313 - loss: 228.6657\n",
            "Epoch 25/50\n",
            "\u001b[1m10/10\u001b[0m \u001b[32m━━━━━━━━━━━━━━━━━━━━\u001b[0m\u001b[37m\u001b[0m \u001b[1m5s\u001b[0m 260ms/step - accuracy: 0.3076 - loss: 280.9254\n",
            "Epoch 26/50\n",
            "\u001b[1m10/10\u001b[0m \u001b[32m━━━━━━━━━━━━━━━━━━━━\u001b[0m\u001b[37m\u001b[0m \u001b[1m6s\u001b[0m 325ms/step - accuracy: 0.3228 - loss: 265.9380\n",
            "Epoch 27/50\n",
            "\u001b[1m10/10\u001b[0m \u001b[32m━━━━━━━━━━━━━━━━━━━━\u001b[0m\u001b[37m\u001b[0m \u001b[1m4s\u001b[0m 261ms/step - accuracy: 0.3418 - loss: 250.7766\n",
            "Epoch 28/50\n",
            "\u001b[1m10/10\u001b[0m \u001b[32m━━━━━━━━━━━━━━━━━━━━\u001b[0m\u001b[37m\u001b[0m \u001b[1m6s\u001b[0m 339ms/step - accuracy: 0.3584 - loss: 153.9482\n",
            "Epoch 29/50\n",
            "\u001b[1m10/10\u001b[0m \u001b[32m━━━━━━━━━━━━━━━━━━━━\u001b[0m\u001b[37m\u001b[0m \u001b[1m4s\u001b[0m 259ms/step - accuracy: 0.3436 - loss: 54.6184\n",
            "Epoch 30/50\n",
            "\u001b[1m10/10\u001b[0m \u001b[32m━━━━━━━━━━━━━━━━━━━━\u001b[0m\u001b[37m\u001b[0m \u001b[1m5s\u001b[0m 263ms/step - accuracy: 0.3716 - loss: 75.1433\n",
            "Epoch 31/50\n",
            "\u001b[1m10/10\u001b[0m \u001b[32m━━━━━━━━━━━━━━━━━━━━\u001b[0m\u001b[37m\u001b[0m \u001b[1m6s\u001b[0m 343ms/step - accuracy: 0.3166 - loss: 64.9740\n",
            "Epoch 32/50\n",
            "\u001b[1m10/10\u001b[0m \u001b[32m━━━━━━━━━━━━━━━━━━━━\u001b[0m\u001b[37m\u001b[0m \u001b[1m4s\u001b[0m 264ms/step - accuracy: 0.3252 - loss: 68.9405\n",
            "Epoch 33/50\n",
            "\u001b[1m10/10\u001b[0m \u001b[32m━━━━━━━━━━━━━━━━━━━━\u001b[0m\u001b[37m\u001b[0m \u001b[1m3s\u001b[0m 260ms/step - accuracy: 0.3056 - loss: 89.6796\n",
            "Epoch 34/50\n",
            "\u001b[1m10/10\u001b[0m \u001b[32m━━━━━━━━━━━━━━━━━━━━\u001b[0m\u001b[37m\u001b[0m \u001b[1m3s\u001b[0m 291ms/step - accuracy: 0.3438 - loss: 39.0019\n",
            "Epoch 35/50\n",
            "\u001b[1m10/10\u001b[0m \u001b[32m━━━━━━━━━━━━━━━━━━━━\u001b[0m\u001b[37m\u001b[0m \u001b[1m5s\u001b[0m 262ms/step - accuracy: 0.2816 - loss: 22.5202\n",
            "Epoch 36/50\n",
            "\u001b[1m10/10\u001b[0m \u001b[32m━━━━━━━━━━━━━━━━━━━━\u001b[0m\u001b[37m\u001b[0m \u001b[1m3s\u001b[0m 260ms/step - accuracy: 0.2853 - loss: 36.9996\n",
            "Epoch 37/50\n",
            "\u001b[1m10/10\u001b[0m \u001b[32m━━━━━━━━━━━━━━━━━━━━\u001b[0m\u001b[37m\u001b[0m \u001b[1m3s\u001b[0m 260ms/step - accuracy: 0.3731 - loss: 28.4309\n",
            "Epoch 38/50\n",
            "\u001b[1m10/10\u001b[0m \u001b[32m━━━━━━━━━━━━━━━━━━━━\u001b[0m\u001b[37m\u001b[0m \u001b[1m3s\u001b[0m 352ms/step - accuracy: 0.3579 - loss: 17.1139\n",
            "Epoch 39/50\n",
            "\u001b[1m10/10\u001b[0m \u001b[32m━━━━━━━━━━━━━━━━━━━━\u001b[0m\u001b[37m\u001b[0m \u001b[1m4s\u001b[0m 263ms/step - accuracy: 0.3099 - loss: 27.8796\n",
            "Epoch 40/50\n",
            "\u001b[1m10/10\u001b[0m \u001b[32m━━━━━━━━━━━━━━━━━━━━\u001b[0m\u001b[37m\u001b[0m \u001b[1m5s\u001b[0m 261ms/step - accuracy: 0.3156 - loss: 23.2402\n",
            "Epoch 41/50\n",
            "\u001b[1m10/10\u001b[0m \u001b[32m━━━━━━━━━━━━━━━━━━━━\u001b[0m\u001b[37m\u001b[0m \u001b[1m5s\u001b[0m 259ms/step - accuracy: 0.3733 - loss: 19.3509\n",
            "Epoch 42/50\n",
            "\u001b[1m10/10\u001b[0m \u001b[32m━━━━━━━━━━━━━━━━━━━━\u001b[0m\u001b[37m\u001b[0m \u001b[1m5s\u001b[0m 261ms/step - accuracy: 0.3185 - loss: 25.5624\n",
            "Epoch 43/50\n",
            "\u001b[1m10/10\u001b[0m \u001b[32m━━━━━━━━━━━━━━━━━━━━\u001b[0m\u001b[37m\u001b[0m \u001b[1m13s\u001b[0m 976ms/step - accuracy: 0.2832 - loss: 41.8888\n",
            "Epoch 44/50\n",
            "\u001b[1m10/10\u001b[0m \u001b[32m━━━━━━━━━━━━━━━━━━━━\u001b[0m\u001b[37m\u001b[0m \u001b[1m13s\u001b[0m 277ms/step - accuracy: 0.3022 - loss: 27.8263\n",
            "Epoch 45/50\n",
            "\u001b[1m10/10\u001b[0m \u001b[32m━━━━━━━━━━━━━━━━━━━━\u001b[0m\u001b[37m\u001b[0m \u001b[1m3s\u001b[0m 279ms/step - accuracy: 0.3361 - loss: 65.8834\n",
            "Epoch 46/50\n",
            "\u001b[1m10/10\u001b[0m \u001b[32m━━━━━━━━━━━━━━━━━━━━\u001b[0m\u001b[37m\u001b[0m \u001b[1m4s\u001b[0m 409ms/step - accuracy: 0.3439 - loss: 79.3546\n",
            "Epoch 47/50\n",
            "\u001b[1m10/10\u001b[0m \u001b[32m━━━━━━━━━━━━━━━━━━━━\u001b[0m\u001b[37m\u001b[0m \u001b[1m4s\u001b[0m 275ms/step - accuracy: 0.3153 - loss: 81.1854\n",
            "Epoch 48/50\n",
            "\u001b[1m10/10\u001b[0m \u001b[32m━━━━━━━━━━━━━━━━━━━━\u001b[0m\u001b[37m\u001b[0m \u001b[1m5s\u001b[0m 275ms/step - accuracy: 0.3533 - loss: 23.4089\n",
            "Epoch 49/50\n",
            "\u001b[1m10/10\u001b[0m \u001b[32m━━━━━━━━━━━━━━━━━━━━\u001b[0m\u001b[37m\u001b[0m \u001b[1m5s\u001b[0m 276ms/step - accuracy: 0.3790 - loss: 106.2927\n",
            "Epoch 50/50\n",
            "\u001b[1m10/10\u001b[0m \u001b[32m━━━━━━━━━━━━━━━━━━━━\u001b[0m\u001b[37m\u001b[0m \u001b[1m5s\u001b[0m 280ms/step - accuracy: 0.3158 - loss: 95.1133\n"
          ]
        },
        {
          "output_type": "execute_result",
          "data": {
            "text/plain": [
              "<keras.src.callbacks.history.History at 0x7af9ac49ee90>"
            ]
          },
          "metadata": {},
          "execution_count": 52
        }
      ]
    },
    {
      "cell_type": "code",
      "source": [],
      "metadata": {
        "id": "uqdulQLm3Xuu"
      },
      "execution_count": null,
      "outputs": []
    }
  ]
}